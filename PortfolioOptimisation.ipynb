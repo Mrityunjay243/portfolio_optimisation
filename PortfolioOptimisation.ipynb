{
  "nbformat": 4,
  "nbformat_minor": 0,
  "metadata": {
    "colab": {
      "provenance": []
    },
    "kernelspec": {
      "name": "python3",
      "display_name": "Python 3"
    },
    "language_info": {
      "name": "python"
    }
  },
  "cells": [
    {
      "cell_type": "code",
      "execution_count": null,
      "metadata": {
        "id": "puK7CQeU-XgC"
      },
      "outputs": [],
      "source": [
        "from pydrive.auth import GoogleAuth \n",
        "from pydrive.drive import GoogleDrive \n",
        "from google.colab import auth \n",
        "from oauth2client.client import GoogleCredentials \n",
        "  \n",
        "  \n",
        "# Authenticate and create the PyDrive client. \n",
        "auth.authenticate_user() \n",
        "gauth = GoogleAuth() \n",
        "gauth.credentials = GoogleCredentials.get_application_default() \n",
        "drive = GoogleDrive(gauth)"
      ]
    },
    {
      "cell_type": "code",
      "source": [
        "#This part linkes the dataset in the drive to the google colab file\n",
        "link =  'https://drive.google.com/file/d/1GTpBieM7QsYuUjtwNDCsRhBTA58Q5Xu_/view?usp=sharing' #Moving Average\n",
        "link2 = 'https://drive.google.com/file/d/13F66zwrZcZjTNnZbjgaHZsp3WPD_85RG/view?usp=sharing' #Actual Prices\n",
        "link3 = 'https://drive.google.com/file/d/1VEF6Ld9Wv3MLcLRngl4PoiFFDPPrdn4V/view?usp=sharing' #PCA Predicted\n",
        "link4 = 'https://drive.google.com/file/d/1--lXVFUvLEFyIw-jCCMxDb_1FXRcrDWP/view?usp=sharing' #LR Predicted\n",
        "link5 = 'https://drive.google.com/file/d/1--TuLrE_BmRqOMSMLETiaW4bB3qmioJZ/view?usp=sharing' #PCA Actuals\n",
        "link6 = 'https://drive.google.com/file/d/1-26dFRXBRlVJPuUGD1Rn6VO0j6Hc65yC/view?usp=sharing' #LR Actuals\n",
        "\n",
        "id = link.split('/')[-2]\n",
        "id2 = link2.split('/')[-2]\n",
        "id3 = link3.split('/')[-2]\n",
        "id4 = link4.split('/')[-2]\n",
        "id5 = link5.split('/')[-2]\n",
        "id6 = link6.split('/')[-2]\n",
        "# id7 = link7.split('/')[-2]\n",
        "\n",
        "downloaded = drive.CreateFile({'id' : id})\n",
        "downloaded2 = drive.CreateFile({'id' : id2})\n",
        "downloaded3 = drive.CreateFile({'id' : id3})\n",
        "downloaded4 = drive.CreateFile({'id' : id4})\n",
        "downloaded5 = drive.CreateFile({'id' : id5})\n",
        "downloaded6 = drive.CreateFile({'id' : id6})\n",
        "\n",
        "\n",
        "\n",
        "downloaded.GetContentFile('MovingAverage.csv')\n",
        "downloaded.GetContentFile('y_dataset.csv')\n",
        "downloaded3.GetContentFile('PCA_Predicted_Prices1.csv')\n",
        "downloaded4.GetContentFile('LR_Predicted_Prices.csv')\n",
        "downloaded5.GetContentFile('PCA_Actual_Prices1.csv')\n",
        "downloaded6.GetContentFile('LR_Actual_prices.csv')"
      ],
      "metadata": {
        "id": "OIQrsr2EOY0M"
      },
      "execution_count": null,
      "outputs": []
    },
    {
      "cell_type": "code",
      "source": [
        "#S&P 500 Data\n",
        "\"\"\"\n",
        "link = ''\n",
        "id7 = link.split('/')[-2]\n",
        "downloaded7 = drive.CreateFile({'id' : id7})\n",
        "downloaded7.GetContentFile('SP500.csv')\n",
        "SP500 = pd.read_csv(\"SP500.csv\")\n",
        "\"\"\""
      ],
      "metadata": {
        "id": "YjzPyZoHl6On",
        "colab": {
          "base_uri": "https://localhost:8080/",
          "height": 52
        },
        "outputId": "7d55e7e2-09ab-43fb-99e9-53f9080bfd20"
      },
      "execution_count": null,
      "outputs": [
        {
          "output_type": "execute_result",
          "data": {
            "text/plain": [
              "'\\nlink = \\'\\'\\nid7 = link.split(\\'/\\')[-2]\\ndownloaded7 = drive.CreateFile({\\'id\\' : id7})\\ndownloaded7.GetContentFile(\\'SP500.csv\\')\\nSP500 = pd.read_csv(\"SP500.csv\")\\n'"
            ],
            "application/vnd.google.colaboratory.intrinsic+json": {
              "type": "string"
            }
          },
          "metadata": {},
          "execution_count": 3
        }
      ]
    },
    {
      "cell_type": "code",
      "source": [
        "import pandas as pd\n",
        "import numpy as np\n",
        "import matplotlib.pyplot as plt\n",
        "import seaborn as sns\n",
        "%matplotlib inline\n",
        "\n",
        "#Model 1: Moving Average\n",
        "Moving_Average = pd.read_csv('MovingAverage.csv')\n",
        "Moving_Average['Date'] =  pd.to_datetime(Moving_Average['Date'])\n",
        "Moving_Average=Moving_Average.set_index('Date')\n",
        "\n",
        "Closing_Prices = pd.read_csv('y_dataset.csv')\n",
        "Closing_Prices['Date'] =  pd.to_datetime(Closing_Prices['Date'])\n",
        "Closing_Prices=Closing_Prices.set_index('Date')\n",
        "\n",
        "\n",
        "#Model 2: Linear Regression\n",
        "LR_Predicted_Prices = pd.read_csv('LR_Predicted_Prices.csv')\n",
        "LR_Predicted_Prices['Date'] =  pd.to_datetime(LR_Predicted_Prices['Date'])\n",
        "LR_Predicted_Prices=LR_Predicted_Prices.set_index('Date')\n",
        "\n",
        "LR_Actual_Prices = pd.read_csv('LR_Actual_prices.csv')\n",
        "LR_Actual_Prices['Date'] =  pd.to_datetime(LR_Actual_Prices['Date'])\n",
        "LR_Actual_Prices=LR_Actual_Prices.set_index('Date')\n",
        "\n",
        "\n",
        "#Model 3: LSTM\n",
        "PCA_Predicted_Prices = pd.read_csv('PCA_Predicted_Prices1.csv')\n",
        "PCA_Predicted_Prices['Date'] =  pd.to_datetime(PCA_Predicted_Prices['Date'])\n",
        "PCA_Predicted_Prices=PCA_Predicted_Prices.set_index('Date')\n",
        "\n",
        "PCA_Actual_Prices = pd.read_csv('PCA_Actual_Prices1.csv')\n",
        "PCA_Actual_Prices['Date'] =  pd.to_datetime(PCA_Actual_Prices['Date'])\n",
        "PCA_Actual_Prices=PCA_Actual_Prices.set_index('Date')"
      ],
      "metadata": {
        "id": "e9MYwDsfh74b"
      },
      "execution_count": null,
      "outputs": []
    },
    {
      "cell_type": "code",
      "source": [
        "#Computing Log Returns\n",
        "PCA_Predicted_Returns = PCA_Predicted_Prices.apply(lambda x: np.log(x) - np.log(x.shift(1))).iloc[1:] \n",
        "PCA_Actual_Returns = PCA_Actual_Prices.apply(lambda x: np.log(x) - np.log(x.shift(1))).iloc[1:] \n",
        "\n",
        "LR_Predicted_Returns = LR_Predicted_Prices.apply(lambda x: np.log(x) - np.log(x.shift(1))).iloc[1:] \n",
        "LR_Actual_Returns = LR_Actual_Prices.apply(lambda x: np.log(x) - np.log(x.shift(1))).iloc[1:] \n",
        "\n",
        "Closing_Prices_Returns = Closing_Prices.apply(lambda x: np.log(x) - np.log(x.shift(1))).iloc[1:] "
      ],
      "metadata": {
        "id": "wxL3HN_AiGvW"
      },
      "execution_count": null,
      "outputs": []
    },
    {
      "cell_type": "code",
      "source": [
        "from sklearn.metrics import mean_squared_error\n",
        "mean_squared_error(PCA_Actual_Prices, PCA_Predicted_Prices)"
      ],
      "metadata": {
        "colab": {
          "base_uri": "https://localhost:8080/"
        },
        "id": "dq7HGT7IiLVl",
        "outputId": "b74fde8d-7500-46bd-b918-c7921a6bb67e"
      },
      "execution_count": null,
      "outputs": [
        {
          "output_type": "execute_result",
          "data": {
            "text/plain": [
              "1822284.255508551"
            ]
          },
          "metadata": {},
          "execution_count": 6
        }
      ]
    },
    {
      "cell_type": "markdown",
      "source": [
        "**Creation of Different Lookback and Forward Windows**"
      ],
      "metadata": {
        "id": "L7OW53m-iPgz"
      }
    },
    {
      "cell_type": "code",
      "source": [
        "#Mean Returns function\n",
        "def mean_returns(df, length): \n",
        "  mu = df.sum(axis = 0)/length\n",
        "  return mu"
      ],
      "metadata": {
        "id": "H_-Jm91piOLo"
      },
      "execution_count": null,
      "outputs": []
    },
    {
      "cell_type": "code",
      "source": [
        "from datetime import timedelta\n",
        "from dateutil.parser import parse\n",
        "\n",
        "def monthdelta(date, delta):\n",
        "    m, y = (date.month+delta) % 12, date.year + ((date.month)+delta-1) // 12\n",
        "    if not m: m = 12\n",
        "    d = min(date.day, [31,\n",
        "        29 if y%4==0 and not y%400==0 else 28,31,30,31,30,31,31,30,31,30,31][m-1])\n",
        "    new_date = (date.replace(day=d,month=m, year=y))\n",
        "    return parse(new_date.strftime('%Y-%m-%d'))\n",
        "\n",
        "\n",
        "#This part of the code takes in a dataset and splits it into datasets w/ lookback months and forward looking months\n",
        "def windowGenerator (dataframe, lookback, horizon,\n",
        "                    step, cummulative = False):\n",
        "\n",
        "#takes pandas dataframe with DatetimeIndex\n",
        "\n",
        "    if cummulative:\n",
        "        c = lookback\n",
        "        step = horizon\n",
        "        \n",
        "    initial = min(dataframe.index)\n",
        "    windows = []\n",
        "    horizons = []\n",
        "\n",
        "    while initial <= monthdelta(max(dataframe.index), -lookback):\n",
        "        windowStart = initial\n",
        "        windowEnd = monthdelta(windowStart, lookback)\n",
        "        if cummulative:\n",
        "            windowStart = min(dataframe.index)\n",
        "            windowEnd = monthdelta(windowStart, c) + timedelta(days=1)\n",
        "            c += horizon\n",
        "        horizonStart = windowEnd + timedelta(days=1)\n",
        "        horizonEnd = monthdelta(horizonStart, horizon)\n",
        "\n",
        "        lookbackWindow = dataframe[windowStart:windowEnd]\n",
        "        horizonWindow = dataframe[horizonStart:horizonEnd]\n",
        "\n",
        "        windows.append(lookbackWindow)\n",
        "        horizons.append(horizonWindow)\n",
        "\n",
        "        initial = monthdelta(initial, step)\n",
        "\n",
        "    return windows, horizons"
      ],
      "metadata": {
        "id": "UJYTqMnxiWrd"
      },
      "execution_count": null,
      "outputs": []
    },
    {
      "cell_type": "markdown",
      "source": [
        "**Optimize Function**"
      ],
      "metadata": {
        "id": "-opxgFiqipxA"
      }
    },
    {
      "cell_type": "code",
      "source": [
        "from scipy.optimize import minimize, Bounds, LinearConstraint\n",
        "from numpy.linalg import norm\n",
        "\n",
        "def actual_return(actual_returns, w):\n",
        "  actual_returns = actual_returns\n",
        "  mean_return = mean_returns(actual_returns, actual_returns.shape[0])\n",
        "  actual_covariance = actual_returns.cov()\n",
        "\n",
        "  portfolio_returns = mean_return.T.dot(w)\n",
        "  portfolio_variance = w.T.dot(actual_covariance).dot(w)\n",
        "  return portfolio_returns, portfolio_variance\n",
        "\n",
        "\n",
        "#Input entire predicted returns df, actual returns df, starting date\n",
        "def scipy_opt(predicted_returns, actual_returns, lam1, lam2):\n",
        "  mean_return = mean_returns(predicted_returns, predicted_returns.shape[0])\n",
        "  predicted_covariance = predicted_returns.cov()\n",
        "  \n",
        "  #Cost Function\n",
        "  def f(w):\n",
        "    return -(mean_return.T.dot(w) - lam1*(w.T.dot(predicted_covariance).dot(w)) + lam2*norm(w, ord=1))\n",
        "  #out custom maximises \n",
        "\n",
        "  #Bounds of Weights\n",
        "  opt_bounds = Bounds(0, 1)\n",
        "\n",
        "  #Equality Constraints\n",
        "  def h(w):\n",
        "    return sum(w) - 1\n",
        "\n",
        "  #Constraints Dictionary\n",
        "  cons = ({\n",
        "      'type' : 'eq',\n",
        "      'fun' : lambda w: h(w)\n",
        "  })\n",
        "\n",
        "  #Solver\n",
        "  sol = minimize(f,\n",
        "                 x0 = np.ones(mean_return.shape[0]),\n",
        "                 constraints = cons,\n",
        "                 bounds = opt_bounds,\n",
        "                 options = {'disp': False},\n",
        "                 tol=10e-10)\n",
        "\n",
        "\n",
        "  #Predicted Results\n",
        "  w = sol.x\n",
        "  predicted_portfolio_returns = w.dot(mean_return)\n",
        "  portfolio_STD = w.T.dot(predicted_covariance).dot(w)\n",
        "  \n",
        "  #Actual Results\n",
        "  portfolio_actual_returns, portfolio_actual_variance = actual_return(actual_returns, w)\n",
        "  sharpe_ratio = portfolio_actual_returns/np.std(portfolio_actual_variance)\n",
        "\n",
        "  ret_dict = {'weights' : w,\n",
        "              'predicted_returns' : predicted_portfolio_returns,\n",
        "              'predicted_variance' : portfolio_STD,\n",
        "              'actual_returns' : portfolio_actual_returns,\n",
        "              'actual_variance' : portfolio_actual_variance,\n",
        "              'sharpe_ratio': sharpe_ratio}\n",
        "  \n",
        "  return ret_dict"
      ],
      "metadata": {
        "id": "UKz0EO87im6C"
      },
      "execution_count": null,
      "outputs": []
    },
    {
      "cell_type": "markdown",
      "source": [
        "**Moving Average **"
      ],
      "metadata": {
        "id": "0bzcE7YJjMTr"
      }
    },
    {
      "cell_type": "code",
      "source": [
        "#Moving average only needs to look at historical mean returns to make a prediction for the future. It \n",
        "#essentially follows the trend of our lookback window\n",
        "MA_act_windows, MA_act_horizons = windowGenerator(Closing_Prices_Returns, 12, 1, 1)"
      ],
      "metadata": {
        "id": "SlvdhUI-jJAO"
      },
      "execution_count": null,
      "outputs": []
    },
    {
      "cell_type": "code",
      "source": [
        "MA_scipy_returns= []\n",
        "MA_scipy_variance = []\n",
        "MA_scipy_SR = []\n",
        "\n",
        "# Testing on 5 years of data\n",
        "for i in range(len(MA_act_horizons)-72,len(MA_act_horizons)-12):\n",
        "  #Scipy optimize results\n",
        "  scipy = scipy_opt(MA_act_windows[i], MA_act_horizons[i], .5, 2)\n",
        "  MA_scipy_returns.append(scipy['actual_returns'])\n",
        "  MA_scipy_variance.append(scipy['actual_variance'])\n",
        "  MA_scipy_SR.append(scipy['sharpe_ratio'])\n",
        "  # print(\"Month \" + str(i) + \" complete\")"
      ],
      "metadata": {
        "colab": {
          "base_uri": "https://localhost:8080/"
        },
        "id": "6tqiRAswjR8f",
        "outputId": "58614f4e-0178-4749-825f-deba43186284"
      },
      "execution_count": null,
      "outputs": [
        {
          "output_type": "stream",
          "name": "stderr",
          "text": [
            "/usr/local/lib/python3.7/dist-packages/ipykernel_launcher.py:53: RuntimeWarning: divide by zero encountered in double_scalars\n"
          ]
        }
      ]
    },
    {
      "cell_type": "code",
      "source": [
        "timestamps = []\n",
        "for i in range(len(MA_act_horizons)-72,len(MA_act_horizons)-12):\n",
        "  time = MA_act_horizons[i].index[-1]\n",
        "  timestamps.append(time)\n",
        "\n",
        "MA_Portfolio_Returns = pd.DataFrame(data = np.array([MA_scipy_returns,MA_scipy_variance,MA_scipy_SR]).T, columns = ['Returns', 'Variance', 'Sharpe Ratio'], index=timestamps)\n",
        "MA_Portfolio_Returns.index.rename('Date')\n",
        "\n",
        "MA_Portfolio_Returns.to_csv('MA_Portfolio_Returns.csv')\n",
        "!cp MA_Portfolio_Returns.csv \"drive/My Drive/Machine Learning Project/ML Section Exports\""
      ],
      "metadata": {
        "colab": {
          "base_uri": "https://localhost:8080/"
        },
        "id": "Vr5ICnsyjYDL",
        "outputId": "1050ea54-8bee-4dbc-dc73-73547fab0bb9"
      },
      "execution_count": null,
      "outputs": [
        {
          "output_type": "stream",
          "name": "stdout",
          "text": [
            "cp: cannot create regular file 'drive/My Drive/Machine Learning Project/ML Section Exports': No such file or directory\n"
          ]
        }
      ]
    },
    {
      "cell_type": "code",
      "source": [
        "MA_Portfolio_Returns.head()"
      ],
      "metadata": {
        "colab": {
          "base_uri": "https://localhost:8080/",
          "height": 206
        },
        "id": "HwZaUymEkT-K",
        "outputId": "995d356c-102d-42bd-eab9-7eebeac3e2ab"
      },
      "execution_count": null,
      "outputs": [
        {
          "output_type": "execute_result",
          "data": {
            "text/plain": [
              "             Returns      Variance  Sharpe Ratio\n",
              "2016-09-29  0.003395  4.657735e-08           inf\n",
              "2016-10-28  0.003175  2.549033e-08           inf\n",
              "2016-11-29  0.002021  2.189708e-07           inf\n",
              "2016-12-29  0.001488  7.121662e-08           inf\n",
              "2017-01-27  0.001409  3.558048e-08           inf"
            ],
            "text/html": [
              "\n",
              "  <div id=\"df-75be5e8a-9f18-40e4-9a3e-1789b2ebb9f0\">\n",
              "    <div class=\"colab-df-container\">\n",
              "      <div>\n",
              "<style scoped>\n",
              "    .dataframe tbody tr th:only-of-type {\n",
              "        vertical-align: middle;\n",
              "    }\n",
              "\n",
              "    .dataframe tbody tr th {\n",
              "        vertical-align: top;\n",
              "    }\n",
              "\n",
              "    .dataframe thead th {\n",
              "        text-align: right;\n",
              "    }\n",
              "</style>\n",
              "<table border=\"1\" class=\"dataframe\">\n",
              "  <thead>\n",
              "    <tr style=\"text-align: right;\">\n",
              "      <th></th>\n",
              "      <th>Returns</th>\n",
              "      <th>Variance</th>\n",
              "      <th>Sharpe Ratio</th>\n",
              "    </tr>\n",
              "  </thead>\n",
              "  <tbody>\n",
              "    <tr>\n",
              "      <th>2016-09-29</th>\n",
              "      <td>0.003395</td>\n",
              "      <td>4.657735e-08</td>\n",
              "      <td>inf</td>\n",
              "    </tr>\n",
              "    <tr>\n",
              "      <th>2016-10-28</th>\n",
              "      <td>0.003175</td>\n",
              "      <td>2.549033e-08</td>\n",
              "      <td>inf</td>\n",
              "    </tr>\n",
              "    <tr>\n",
              "      <th>2016-11-29</th>\n",
              "      <td>0.002021</td>\n",
              "      <td>2.189708e-07</td>\n",
              "      <td>inf</td>\n",
              "    </tr>\n",
              "    <tr>\n",
              "      <th>2016-12-29</th>\n",
              "      <td>0.001488</td>\n",
              "      <td>7.121662e-08</td>\n",
              "      <td>inf</td>\n",
              "    </tr>\n",
              "    <tr>\n",
              "      <th>2017-01-27</th>\n",
              "      <td>0.001409</td>\n",
              "      <td>3.558048e-08</td>\n",
              "      <td>inf</td>\n",
              "    </tr>\n",
              "  </tbody>\n",
              "</table>\n",
              "</div>\n",
              "      <button class=\"colab-df-convert\" onclick=\"convertToInteractive('df-75be5e8a-9f18-40e4-9a3e-1789b2ebb9f0')\"\n",
              "              title=\"Convert this dataframe to an interactive table.\"\n",
              "              style=\"display:none;\">\n",
              "        \n",
              "  <svg xmlns=\"http://www.w3.org/2000/svg\" height=\"24px\"viewBox=\"0 0 24 24\"\n",
              "       width=\"24px\">\n",
              "    <path d=\"M0 0h24v24H0V0z\" fill=\"none\"/>\n",
              "    <path d=\"M18.56 5.44l.94 2.06.94-2.06 2.06-.94-2.06-.94-.94-2.06-.94 2.06-2.06.94zm-11 1L8.5 8.5l.94-2.06 2.06-.94-2.06-.94L8.5 2.5l-.94 2.06-2.06.94zm10 10l.94 2.06.94-2.06 2.06-.94-2.06-.94-.94-2.06-.94 2.06-2.06.94z\"/><path d=\"M17.41 7.96l-1.37-1.37c-.4-.4-.92-.59-1.43-.59-.52 0-1.04.2-1.43.59L10.3 9.45l-7.72 7.72c-.78.78-.78 2.05 0 2.83L4 21.41c.39.39.9.59 1.41.59.51 0 1.02-.2 1.41-.59l7.78-7.78 2.81-2.81c.8-.78.8-2.07 0-2.86zM5.41 20L4 18.59l7.72-7.72 1.47 1.35L5.41 20z\"/>\n",
              "  </svg>\n",
              "      </button>\n",
              "      \n",
              "  <style>\n",
              "    .colab-df-container {\n",
              "      display:flex;\n",
              "      flex-wrap:wrap;\n",
              "      gap: 12px;\n",
              "    }\n",
              "\n",
              "    .colab-df-convert {\n",
              "      background-color: #E8F0FE;\n",
              "      border: none;\n",
              "      border-radius: 50%;\n",
              "      cursor: pointer;\n",
              "      display: none;\n",
              "      fill: #1967D2;\n",
              "      height: 32px;\n",
              "      padding: 0 0 0 0;\n",
              "      width: 32px;\n",
              "    }\n",
              "\n",
              "    .colab-df-convert:hover {\n",
              "      background-color: #E2EBFA;\n",
              "      box-shadow: 0px 1px 2px rgba(60, 64, 67, 0.3), 0px 1px 3px 1px rgba(60, 64, 67, 0.15);\n",
              "      fill: #174EA6;\n",
              "    }\n",
              "\n",
              "    [theme=dark] .colab-df-convert {\n",
              "      background-color: #3B4455;\n",
              "      fill: #D2E3FC;\n",
              "    }\n",
              "\n",
              "    [theme=dark] .colab-df-convert:hover {\n",
              "      background-color: #434B5C;\n",
              "      box-shadow: 0px 1px 3px 1px rgba(0, 0, 0, 0.15);\n",
              "      filter: drop-shadow(0px 1px 2px rgba(0, 0, 0, 0.3));\n",
              "      fill: #FFFFFF;\n",
              "    }\n",
              "  </style>\n",
              "\n",
              "      <script>\n",
              "        const buttonEl =\n",
              "          document.querySelector('#df-75be5e8a-9f18-40e4-9a3e-1789b2ebb9f0 button.colab-df-convert');\n",
              "        buttonEl.style.display =\n",
              "          google.colab.kernel.accessAllowed ? 'block' : 'none';\n",
              "\n",
              "        async function convertToInteractive(key) {\n",
              "          const element = document.querySelector('#df-75be5e8a-9f18-40e4-9a3e-1789b2ebb9f0');\n",
              "          const dataTable =\n",
              "            await google.colab.kernel.invokeFunction('convertToInteractive',\n",
              "                                                     [key], {});\n",
              "          if (!dataTable) return;\n",
              "\n",
              "          const docLinkHtml = 'Like what you see? Visit the ' +\n",
              "            '<a target=\"_blank\" href=https://colab.research.google.com/notebooks/data_table.ipynb>data table notebook</a>'\n",
              "            + ' to learn more about interactive tables.';\n",
              "          element.innerHTML = '';\n",
              "          dataTable['output_type'] = 'display_data';\n",
              "          await google.colab.output.renderOutput(dataTable, element);\n",
              "          const docLink = document.createElement('div');\n",
              "          docLink.innerHTML = docLinkHtml;\n",
              "          element.appendChild(docLink);\n",
              "        }\n",
              "      </script>\n",
              "    </div>\n",
              "  </div>\n",
              "  "
            ]
          },
          "metadata": {},
          "execution_count": 13
        }
      ]
    },
    {
      "cell_type": "markdown",
      "source": [
        "**Method 2: PCA + Linear Regression**"
      ],
      "metadata": {
        "id": "1vGTHLelklmv"
      }
    },
    {
      "cell_type": "code",
      "source": [
        "LR_pred_windows, LR_pred_horizons = windowGenerator(LR_Predicted_Returns, 12, 1, 1)\n",
        "LR_act_windows, LR_act_horizons = windowGenerator(LR_Actual_Returns, 12, 1, 1)"
      ],
      "metadata": {
        "id": "eQIrFLZZkZav"
      },
      "execution_count": null,
      "outputs": []
    },
    {
      "cell_type": "code",
      "source": [
        "LR_scipy_returns= []\n",
        "LR_scipy_variance = []\n",
        "LR_scipy_SR = []\n",
        "\n",
        "#Testing on 5 years of data\n",
        "for i in range(len(LR_act_horizons)-72,len(LR_act_horizons)-12):\n",
        "  #Scipy optimize results\n",
        "  scipy = scipy_opt(LR_pred_horizons[i], LR_act_horizons[i], .5, 2)\n",
        "  LR_scipy_returns.append(scipy['actual_returns'])\n",
        "  LR_scipy_variance.append(scipy['actual_variance'])\n",
        "  LR_scipy_SR.append(scipy['sharpe_ratio'])\n",
        "  # print(\"Month \" + str(i) + \" complete\")"
      ],
      "metadata": {
        "colab": {
          "base_uri": "https://localhost:8080/"
        },
        "id": "6lW7HGzjktb-",
        "outputId": "745b728b-f267-4a5e-e525-db4674cabfaf"
      },
      "execution_count": null,
      "outputs": [
        {
          "output_type": "stream",
          "name": "stderr",
          "text": [
            "/usr/local/lib/python3.7/dist-packages/ipykernel_launcher.py:53: RuntimeWarning: divide by zero encountered in double_scalars\n"
          ]
        }
      ]
    },
    {
      "cell_type": "code",
      "source": [
        "timestamps = []\n",
        "for i in range(len(LR_act_horizons)-72,len(LR_act_horizons)-12):\n",
        "  time = LR_act_horizons[i].index[-1]\n",
        "  timestamps.append(time)\n",
        "\n",
        "LR_Portfolio_Returns = pd.DataFrame(data = np.array([LR_scipy_returns,LR_scipy_variance,LR_scipy_SR]).T, columns = ['Returns', 'Variance', 'Sharpe Ratio'], index=timestamps)"
      ],
      "metadata": {
        "id": "2qDuLziYkxc4"
      },
      "execution_count": null,
      "outputs": []
    },
    {
      "cell_type": "code",
      "source": [
        "# Exporting the Dataset\n",
        "from google.colab import drive\n",
        "drive.mount('drive')\n",
        "\n",
        "LR_Portfolio_Returns.to_csv('LR_Portfolio_Returns.csv')\n",
        "!cp LR_Portfolio_Returns.csv \"drive/My Drive/Machine Learning Project/ML Section Exports\""
      ],
      "metadata": {
        "colab": {
          "base_uri": "https://localhost:8080/"
        },
        "id": "5mXy0zlQlF3y",
        "outputId": "4e149753-3151-4d63-f25a-53f6db8443f1"
      },
      "execution_count": null,
      "outputs": [
        {
          "output_type": "stream",
          "name": "stdout",
          "text": [
            "Mounted at drive\n"
          ]
        }
      ]
    },
    {
      "cell_type": "markdown",
      "source": [
        "**Method 3: LSTM + PCA**"
      ],
      "metadata": {
        "id": "KEJDCHbqlgvY"
      }
    },
    {
      "cell_type": "code",
      "source": [
        "LSTM_pred_windows, LSTM_pred_horizons = windowGenerator(PCA_Predicted_Returns,12,1,1)\n",
        "LSTM_act_windows, LSTM_act_horizons = windowGenerator(PCA_Actual_Returns,12,1,1)"
      ],
      "metadata": {
        "id": "1oGUYx3-lM1J"
      },
      "execution_count": null,
      "outputs": []
    },
    {
      "cell_type": "code",
      "source": [
        "len(LSTM_pred_horizons)"
      ],
      "metadata": {
        "colab": {
          "base_uri": "https://localhost:8080/"
        },
        "id": "StTkDgy1lnLn",
        "outputId": "372a3dcf-9b2b-44f0-cfa7-9fca9708fb72"
      },
      "execution_count": null,
      "outputs": [
        {
          "output_type": "execute_result",
          "data": {
            "text/plain": [
              "83"
            ]
          },
          "metadata": {},
          "execution_count": 19
        }
      ]
    },
    {
      "cell_type": "code",
      "source": [
        "scipy_returns= []\n",
        "scipy_variance = []\n",
        "scipy_SR = []\n",
        "\n",
        "\n",
        "for i in range(len(LSTM_act_horizons)-60,len(LSTM_act_horizons)):\n",
        "  #Scipy optimize results\n",
        "  scipy = scipy_opt(LSTM_pred_horizons[i], LSTM_act_horizons[i], .5, 2)\n",
        "  scipy_returns.append(scipy['actual_returns'])\n",
        "  scipy_variance.append(scipy['actual_variance'])\n",
        "  scipy_SR.append(scipy['sharpe_ratio'])\n",
        "  print(\"Month \" + str(i) + \" complete\")"
      ],
      "metadata": {
        "colab": {
          "base_uri": "https://localhost:8080/"
        },
        "id": "q5ecLuJMlpqO",
        "outputId": "332ee4d8-dce6-4bcb-83d6-fb85da536f1a"
      },
      "execution_count": null,
      "outputs": [
        {
          "output_type": "stream",
          "name": "stderr",
          "text": [
            "/usr/local/lib/python3.7/dist-packages/ipykernel_launcher.py:53: RuntimeWarning: divide by zero encountered in double_scalars\n"
          ]
        },
        {
          "output_type": "stream",
          "name": "stdout",
          "text": [
            "Month 23 complete\n",
            "Month 24 complete\n",
            "Month 25 complete\n",
            "Month 26 complete\n",
            "Month 27 complete\n",
            "Month 28 complete\n",
            "Month 29 complete\n",
            "Month 30 complete\n",
            "Month 31 complete\n",
            "Month 32 complete\n",
            "Month 33 complete\n",
            "Month 34 complete\n",
            "Month 35 complete\n",
            "Month 36 complete\n",
            "Month 37 complete\n",
            "Month 38 complete\n",
            "Month 39 complete\n",
            "Month 40 complete\n",
            "Month 41 complete\n",
            "Month 42 complete\n",
            "Month 43 complete\n",
            "Month 44 complete\n",
            "Month 45 complete\n",
            "Month 46 complete\n",
            "Month 47 complete\n",
            "Month 48 complete\n",
            "Month 49 complete\n",
            "Month 50 complete\n",
            "Month 51 complete\n",
            "Month 52 complete\n",
            "Month 53 complete\n",
            "Month 54 complete\n",
            "Month 55 complete\n",
            "Month 56 complete\n",
            "Month 57 complete\n",
            "Month 58 complete\n",
            "Month 59 complete\n",
            "Month 60 complete\n",
            "Month 61 complete\n",
            "Month 62 complete\n",
            "Month 63 complete\n",
            "Month 64 complete\n",
            "Month 65 complete\n",
            "Month 66 complete\n",
            "Month 67 complete\n",
            "Month 68 complete\n",
            "Month 69 complete\n",
            "Month 70 complete\n",
            "Month 71 complete\n",
            "Month 72 complete\n",
            "Month 73 complete\n",
            "Month 74 complete\n",
            "Month 75 complete\n",
            "Month 76 complete\n",
            "Month 77 complete\n",
            "Month 78 complete\n",
            "Month 79 complete\n",
            "Month 80 complete\n",
            "Month 81 complete\n",
            "Month 82 complete\n"
          ]
        }
      ]
    },
    {
      "cell_type": "code",
      "source": [
        "timestamps = []\n",
        "for i in range(len(LSTM_act_horizons)-60,len(LSTM_act_horizons)):\n",
        "  time = LSTM_act_horizons[i].index[0]\n",
        "  timestamps.append(time)\n",
        "  \n",
        "\n",
        "LSTM_Portfolio_Returns = pd.DataFrame(data = np.array([scipy_returns,scipy_variance,scipy_SR]).T, columns = ['Returns', 'Variance', 'Sharpe Ratio'], index=timestamps)\n",
        "\n",
        "LSTM_Portfolio_Returns.to_csv('LSTM_Portfolio_Returns.csv')\n",
        "!cp LSTM_Portfolio_Returns.csv \"drive/My Drive/Machine Learning Project/ML Section Exports\""
      ],
      "metadata": {
        "id": "VIGLmyXhltIt"
      },
      "execution_count": null,
      "outputs": []
    },
    {
      "cell_type": "code",
      "source": [
        "timestamps"
      ],
      "metadata": {
        "colab": {
          "base_uri": "https://localhost:8080/"
        },
        "id": "iUOgjmGHmAxT",
        "outputId": "6bb1032f-7db0-419b-d879-e30f22dbd1b6"
      },
      "execution_count": null,
      "outputs": [
        {
          "output_type": "execute_result",
          "data": {
            "text/plain": [
              "[Timestamp('2016-07-29 00:00:00'),\n",
              " Timestamp('2016-08-29 00:00:00'),\n",
              " Timestamp('2016-09-29 00:00:00'),\n",
              " Timestamp('2016-11-01 00:00:00'),\n",
              " Timestamp('2016-11-29 00:00:00'),\n",
              " Timestamp('2016-12-29 00:00:00'),\n",
              " Timestamp('2017-01-30 00:00:00'),\n",
              " Timestamp('2017-03-01 00:00:00'),\n",
              " Timestamp('2017-03-29 00:00:00'),\n",
              " Timestamp('2017-05-02 00:00:00'),\n",
              " Timestamp('2017-05-29 00:00:00'),\n",
              " Timestamp('2017-06-29 00:00:00'),\n",
              " Timestamp('2017-07-31 00:00:00'),\n",
              " Timestamp('2017-08-29 00:00:00'),\n",
              " Timestamp('2017-09-29 00:00:00'),\n",
              " Timestamp('2017-10-30 00:00:00'),\n",
              " Timestamp('2017-11-29 00:00:00'),\n",
              " Timestamp('2017-12-29 00:00:00'),\n",
              " Timestamp('2018-01-29 00:00:00'),\n",
              " Timestamp('2018-03-01 00:00:00'),\n",
              " Timestamp('2018-04-02 00:00:00'),\n",
              " Timestamp('2018-04-30 00:00:00'),\n",
              " Timestamp('2018-05-29 00:00:00'),\n",
              " Timestamp('2018-06-29 00:00:00'),\n",
              " Timestamp('2018-07-30 00:00:00'),\n",
              " Timestamp('2018-08-29 00:00:00'),\n",
              " Timestamp('2018-10-01 00:00:00'),\n",
              " Timestamp('2018-10-29 00:00:00'),\n",
              " Timestamp('2018-11-29 00:00:00'),\n",
              " Timestamp('2018-12-31 00:00:00'),\n",
              " Timestamp('2019-01-29 00:00:00'),\n",
              " Timestamp('2019-03-01 00:00:00'),\n",
              " Timestamp('2019-04-01 00:00:00'),\n",
              " Timestamp('2019-04-30 00:00:00'),\n",
              " Timestamp('2019-05-29 00:00:00'),\n",
              " Timestamp('2019-07-01 00:00:00'),\n",
              " Timestamp('2019-07-29 00:00:00'),\n",
              " Timestamp('2019-08-29 00:00:00'),\n",
              " Timestamp('2019-09-30 00:00:00'),\n",
              " Timestamp('2019-10-29 00:00:00'),\n",
              " Timestamp('2019-11-29 00:00:00'),\n",
              " Timestamp('2019-12-30 00:00:00'),\n",
              " Timestamp('2020-01-29 00:00:00'),\n",
              " Timestamp('2020-03-02 00:00:00'),\n",
              " Timestamp('2020-03-30 00:00:00'),\n",
              " Timestamp('2020-04-29 00:00:00'),\n",
              " Timestamp('2020-05-29 00:00:00'),\n",
              " Timestamp('2020-06-29 00:00:00'),\n",
              " Timestamp('2020-07-29 00:00:00'),\n",
              " Timestamp('2020-08-31 00:00:00'),\n",
              " Timestamp('2020-09-29 00:00:00'),\n",
              " Timestamp('2020-10-29 00:00:00'),\n",
              " Timestamp('2020-12-01 00:00:00'),\n",
              " Timestamp('2020-12-29 00:00:00'),\n",
              " Timestamp('2021-01-29 00:00:00'),\n",
              " Timestamp('2021-03-01 00:00:00'),\n",
              " Timestamp('2021-03-30 00:00:00'),\n",
              " Timestamp('2021-04-29 00:00:00'),\n",
              " Timestamp('2021-05-31 00:00:00'),\n",
              " Timestamp('2021-06-29 00:00:00')]"
            ]
          },
          "metadata": {},
          "execution_count": 22
        }
      ]
    },
    {
      "cell_type": "code",
      "source": [
        "LSTM_Portfolio_Returns"
      ],
      "metadata": {
        "colab": {
          "base_uri": "https://localhost:8080/",
          "height": 1000
        },
        "id": "yqYYgfpLmFSd",
        "outputId": "627fc2c7-f94f-48fb-ab88-9057ccbe6546"
      },
      "execution_count": null,
      "outputs": [
        {
          "output_type": "execute_result",
          "data": {
            "text/plain": [
              "             Returns  Variance  Sharpe Ratio\n",
              "2016-07-29  0.002431  0.000609           inf\n",
              "2016-08-29  0.001093  0.000519           inf\n",
              "2016-09-29 -0.000587  0.000461          -inf\n",
              "2016-11-01  0.000984  0.000156           inf\n",
              "2016-11-29 -0.003895  0.000326          -inf\n",
              "2016-12-29  0.008525  0.000285           inf\n",
              "2017-01-30  0.007469  0.000871           inf\n",
              "2017-03-01  0.001372  0.000269           inf\n",
              "2017-03-29  0.001475  0.000095           inf\n",
              "2017-05-02  0.001206  0.000288           inf\n",
              "2017-05-29  0.003696  0.001107           inf\n",
              "2017-06-29  0.006070  0.000398           inf\n",
              "2017-07-31  0.007068  0.000654           inf\n",
              "2017-08-29  0.001337  0.000389           inf\n",
              "2017-09-29  0.010097  0.000511           inf\n",
              "2017-10-30  0.003848  0.000234           inf\n",
              "2017-11-29 -0.000127  0.000087          -inf\n",
              "2017-12-29  0.011826  0.000717           inf\n",
              "2018-01-29  0.002127  0.000577           inf\n",
              "2018-03-01  0.000279  0.000127           inf\n",
              "2018-04-02  0.011287  0.000281           inf\n",
              "2018-04-30 -0.000600  0.000194          -inf\n",
              "2018-05-29  0.001142  0.000157           inf\n",
              "2018-06-29  0.017369  0.000767           inf\n",
              "2018-07-30  0.007132  0.000756           inf\n",
              "2018-08-29  0.003443  0.000107           inf\n",
              "2018-10-01 -0.002905  0.000488          -inf\n",
              "2018-10-29  0.005441  0.000210           inf\n",
              "2018-11-29  0.002294  0.000298           inf\n",
              "2018-12-31  0.003505  0.000300           inf\n",
              "2019-01-29  0.002383  0.000311           inf\n",
              "2019-03-01  0.001971  0.000146           inf\n",
              "2019-04-01  0.000205  0.000513           inf\n",
              "2019-04-30  0.004100  0.000416           inf\n",
              "2019-05-29  0.007257  0.000385           inf\n",
              "2019-07-01  0.000984  0.000504           inf\n",
              "2019-07-29  0.000686  0.000162           inf\n",
              "2019-08-29  0.002798  0.000570           inf\n",
              "2019-09-30  0.007815  0.001751           inf\n",
              "2019-10-29  0.005992  0.000969           inf\n",
              "2019-11-29  0.000852  0.000553           inf\n",
              "2019-12-30  0.000372  0.000580           inf\n",
              "2020-01-29  0.005320  0.000174           inf\n",
              "2020-03-02 -0.029146  0.004074          -inf\n",
              "2020-03-30 -0.003502  0.000683          -inf\n",
              "2020-04-29  0.006909  0.002703           inf\n",
              "2020-05-29  0.001203  0.000249           inf\n",
              "2020-06-29  0.001670  0.000164           inf\n",
              "2020-07-29  0.001541  0.000095           inf\n",
              "2020-08-31 -0.002618  0.000562          -inf\n",
              "2020-09-29  0.005292  0.000456           inf\n",
              "2020-10-29  0.005749  0.000324           inf\n",
              "2020-12-01  0.011726  0.001146           inf\n",
              "2020-12-29  0.000830  0.000344           inf\n",
              "2021-01-29  0.008161  0.000810           inf\n",
              "2021-03-01 -0.000353  0.000480          -inf\n",
              "2021-03-30 -0.000913  0.000252          -inf\n",
              "2021-04-29  0.005119  0.000767           inf\n",
              "2021-05-31  0.001651  0.000107           inf\n",
              "2021-06-29 -0.003132  0.000561          -inf"
            ],
            "text/html": [
              "\n",
              "  <div id=\"df-e261e936-f5ad-41c8-a04b-791e266cdf09\">\n",
              "    <div class=\"colab-df-container\">\n",
              "      <div>\n",
              "<style scoped>\n",
              "    .dataframe tbody tr th:only-of-type {\n",
              "        vertical-align: middle;\n",
              "    }\n",
              "\n",
              "    .dataframe tbody tr th {\n",
              "        vertical-align: top;\n",
              "    }\n",
              "\n",
              "    .dataframe thead th {\n",
              "        text-align: right;\n",
              "    }\n",
              "</style>\n",
              "<table border=\"1\" class=\"dataframe\">\n",
              "  <thead>\n",
              "    <tr style=\"text-align: right;\">\n",
              "      <th></th>\n",
              "      <th>Returns</th>\n",
              "      <th>Variance</th>\n",
              "      <th>Sharpe Ratio</th>\n",
              "    </tr>\n",
              "  </thead>\n",
              "  <tbody>\n",
              "    <tr>\n",
              "      <th>2016-07-29</th>\n",
              "      <td>0.002431</td>\n",
              "      <td>0.000609</td>\n",
              "      <td>inf</td>\n",
              "    </tr>\n",
              "    <tr>\n",
              "      <th>2016-08-29</th>\n",
              "      <td>0.001093</td>\n",
              "      <td>0.000519</td>\n",
              "      <td>inf</td>\n",
              "    </tr>\n",
              "    <tr>\n",
              "      <th>2016-09-29</th>\n",
              "      <td>-0.000587</td>\n",
              "      <td>0.000461</td>\n",
              "      <td>-inf</td>\n",
              "    </tr>\n",
              "    <tr>\n",
              "      <th>2016-11-01</th>\n",
              "      <td>0.000984</td>\n",
              "      <td>0.000156</td>\n",
              "      <td>inf</td>\n",
              "    </tr>\n",
              "    <tr>\n",
              "      <th>2016-11-29</th>\n",
              "      <td>-0.003895</td>\n",
              "      <td>0.000326</td>\n",
              "      <td>-inf</td>\n",
              "    </tr>\n",
              "    <tr>\n",
              "      <th>2016-12-29</th>\n",
              "      <td>0.008525</td>\n",
              "      <td>0.000285</td>\n",
              "      <td>inf</td>\n",
              "    </tr>\n",
              "    <tr>\n",
              "      <th>2017-01-30</th>\n",
              "      <td>0.007469</td>\n",
              "      <td>0.000871</td>\n",
              "      <td>inf</td>\n",
              "    </tr>\n",
              "    <tr>\n",
              "      <th>2017-03-01</th>\n",
              "      <td>0.001372</td>\n",
              "      <td>0.000269</td>\n",
              "      <td>inf</td>\n",
              "    </tr>\n",
              "    <tr>\n",
              "      <th>2017-03-29</th>\n",
              "      <td>0.001475</td>\n",
              "      <td>0.000095</td>\n",
              "      <td>inf</td>\n",
              "    </tr>\n",
              "    <tr>\n",
              "      <th>2017-05-02</th>\n",
              "      <td>0.001206</td>\n",
              "      <td>0.000288</td>\n",
              "      <td>inf</td>\n",
              "    </tr>\n",
              "    <tr>\n",
              "      <th>2017-05-29</th>\n",
              "      <td>0.003696</td>\n",
              "      <td>0.001107</td>\n",
              "      <td>inf</td>\n",
              "    </tr>\n",
              "    <tr>\n",
              "      <th>2017-06-29</th>\n",
              "      <td>0.006070</td>\n",
              "      <td>0.000398</td>\n",
              "      <td>inf</td>\n",
              "    </tr>\n",
              "    <tr>\n",
              "      <th>2017-07-31</th>\n",
              "      <td>0.007068</td>\n",
              "      <td>0.000654</td>\n",
              "      <td>inf</td>\n",
              "    </tr>\n",
              "    <tr>\n",
              "      <th>2017-08-29</th>\n",
              "      <td>0.001337</td>\n",
              "      <td>0.000389</td>\n",
              "      <td>inf</td>\n",
              "    </tr>\n",
              "    <tr>\n",
              "      <th>2017-09-29</th>\n",
              "      <td>0.010097</td>\n",
              "      <td>0.000511</td>\n",
              "      <td>inf</td>\n",
              "    </tr>\n",
              "    <tr>\n",
              "      <th>2017-10-30</th>\n",
              "      <td>0.003848</td>\n",
              "      <td>0.000234</td>\n",
              "      <td>inf</td>\n",
              "    </tr>\n",
              "    <tr>\n",
              "      <th>2017-11-29</th>\n",
              "      <td>-0.000127</td>\n",
              "      <td>0.000087</td>\n",
              "      <td>-inf</td>\n",
              "    </tr>\n",
              "    <tr>\n",
              "      <th>2017-12-29</th>\n",
              "      <td>0.011826</td>\n",
              "      <td>0.000717</td>\n",
              "      <td>inf</td>\n",
              "    </tr>\n",
              "    <tr>\n",
              "      <th>2018-01-29</th>\n",
              "      <td>0.002127</td>\n",
              "      <td>0.000577</td>\n",
              "      <td>inf</td>\n",
              "    </tr>\n",
              "    <tr>\n",
              "      <th>2018-03-01</th>\n",
              "      <td>0.000279</td>\n",
              "      <td>0.000127</td>\n",
              "      <td>inf</td>\n",
              "    </tr>\n",
              "    <tr>\n",
              "      <th>2018-04-02</th>\n",
              "      <td>0.011287</td>\n",
              "      <td>0.000281</td>\n",
              "      <td>inf</td>\n",
              "    </tr>\n",
              "    <tr>\n",
              "      <th>2018-04-30</th>\n",
              "      <td>-0.000600</td>\n",
              "      <td>0.000194</td>\n",
              "      <td>-inf</td>\n",
              "    </tr>\n",
              "    <tr>\n",
              "      <th>2018-05-29</th>\n",
              "      <td>0.001142</td>\n",
              "      <td>0.000157</td>\n",
              "      <td>inf</td>\n",
              "    </tr>\n",
              "    <tr>\n",
              "      <th>2018-06-29</th>\n",
              "      <td>0.017369</td>\n",
              "      <td>0.000767</td>\n",
              "      <td>inf</td>\n",
              "    </tr>\n",
              "    <tr>\n",
              "      <th>2018-07-30</th>\n",
              "      <td>0.007132</td>\n",
              "      <td>0.000756</td>\n",
              "      <td>inf</td>\n",
              "    </tr>\n",
              "    <tr>\n",
              "      <th>2018-08-29</th>\n",
              "      <td>0.003443</td>\n",
              "      <td>0.000107</td>\n",
              "      <td>inf</td>\n",
              "    </tr>\n",
              "    <tr>\n",
              "      <th>2018-10-01</th>\n",
              "      <td>-0.002905</td>\n",
              "      <td>0.000488</td>\n",
              "      <td>-inf</td>\n",
              "    </tr>\n",
              "    <tr>\n",
              "      <th>2018-10-29</th>\n",
              "      <td>0.005441</td>\n",
              "      <td>0.000210</td>\n",
              "      <td>inf</td>\n",
              "    </tr>\n",
              "    <tr>\n",
              "      <th>2018-11-29</th>\n",
              "      <td>0.002294</td>\n",
              "      <td>0.000298</td>\n",
              "      <td>inf</td>\n",
              "    </tr>\n",
              "    <tr>\n",
              "      <th>2018-12-31</th>\n",
              "      <td>0.003505</td>\n",
              "      <td>0.000300</td>\n",
              "      <td>inf</td>\n",
              "    </tr>\n",
              "    <tr>\n",
              "      <th>2019-01-29</th>\n",
              "      <td>0.002383</td>\n",
              "      <td>0.000311</td>\n",
              "      <td>inf</td>\n",
              "    </tr>\n",
              "    <tr>\n",
              "      <th>2019-03-01</th>\n",
              "      <td>0.001971</td>\n",
              "      <td>0.000146</td>\n",
              "      <td>inf</td>\n",
              "    </tr>\n",
              "    <tr>\n",
              "      <th>2019-04-01</th>\n",
              "      <td>0.000205</td>\n",
              "      <td>0.000513</td>\n",
              "      <td>inf</td>\n",
              "    </tr>\n",
              "    <tr>\n",
              "      <th>2019-04-30</th>\n",
              "      <td>0.004100</td>\n",
              "      <td>0.000416</td>\n",
              "      <td>inf</td>\n",
              "    </tr>\n",
              "    <tr>\n",
              "      <th>2019-05-29</th>\n",
              "      <td>0.007257</td>\n",
              "      <td>0.000385</td>\n",
              "      <td>inf</td>\n",
              "    </tr>\n",
              "    <tr>\n",
              "      <th>2019-07-01</th>\n",
              "      <td>0.000984</td>\n",
              "      <td>0.000504</td>\n",
              "      <td>inf</td>\n",
              "    </tr>\n",
              "    <tr>\n",
              "      <th>2019-07-29</th>\n",
              "      <td>0.000686</td>\n",
              "      <td>0.000162</td>\n",
              "      <td>inf</td>\n",
              "    </tr>\n",
              "    <tr>\n",
              "      <th>2019-08-29</th>\n",
              "      <td>0.002798</td>\n",
              "      <td>0.000570</td>\n",
              "      <td>inf</td>\n",
              "    </tr>\n",
              "    <tr>\n",
              "      <th>2019-09-30</th>\n",
              "      <td>0.007815</td>\n",
              "      <td>0.001751</td>\n",
              "      <td>inf</td>\n",
              "    </tr>\n",
              "    <tr>\n",
              "      <th>2019-10-29</th>\n",
              "      <td>0.005992</td>\n",
              "      <td>0.000969</td>\n",
              "      <td>inf</td>\n",
              "    </tr>\n",
              "    <tr>\n",
              "      <th>2019-11-29</th>\n",
              "      <td>0.000852</td>\n",
              "      <td>0.000553</td>\n",
              "      <td>inf</td>\n",
              "    </tr>\n",
              "    <tr>\n",
              "      <th>2019-12-30</th>\n",
              "      <td>0.000372</td>\n",
              "      <td>0.000580</td>\n",
              "      <td>inf</td>\n",
              "    </tr>\n",
              "    <tr>\n",
              "      <th>2020-01-29</th>\n",
              "      <td>0.005320</td>\n",
              "      <td>0.000174</td>\n",
              "      <td>inf</td>\n",
              "    </tr>\n",
              "    <tr>\n",
              "      <th>2020-03-02</th>\n",
              "      <td>-0.029146</td>\n",
              "      <td>0.004074</td>\n",
              "      <td>-inf</td>\n",
              "    </tr>\n",
              "    <tr>\n",
              "      <th>2020-03-30</th>\n",
              "      <td>-0.003502</td>\n",
              "      <td>0.000683</td>\n",
              "      <td>-inf</td>\n",
              "    </tr>\n",
              "    <tr>\n",
              "      <th>2020-04-29</th>\n",
              "      <td>0.006909</td>\n",
              "      <td>0.002703</td>\n",
              "      <td>inf</td>\n",
              "    </tr>\n",
              "    <tr>\n",
              "      <th>2020-05-29</th>\n",
              "      <td>0.001203</td>\n",
              "      <td>0.000249</td>\n",
              "      <td>inf</td>\n",
              "    </tr>\n",
              "    <tr>\n",
              "      <th>2020-06-29</th>\n",
              "      <td>0.001670</td>\n",
              "      <td>0.000164</td>\n",
              "      <td>inf</td>\n",
              "    </tr>\n",
              "    <tr>\n",
              "      <th>2020-07-29</th>\n",
              "      <td>0.001541</td>\n",
              "      <td>0.000095</td>\n",
              "      <td>inf</td>\n",
              "    </tr>\n",
              "    <tr>\n",
              "      <th>2020-08-31</th>\n",
              "      <td>-0.002618</td>\n",
              "      <td>0.000562</td>\n",
              "      <td>-inf</td>\n",
              "    </tr>\n",
              "    <tr>\n",
              "      <th>2020-09-29</th>\n",
              "      <td>0.005292</td>\n",
              "      <td>0.000456</td>\n",
              "      <td>inf</td>\n",
              "    </tr>\n",
              "    <tr>\n",
              "      <th>2020-10-29</th>\n",
              "      <td>0.005749</td>\n",
              "      <td>0.000324</td>\n",
              "      <td>inf</td>\n",
              "    </tr>\n",
              "    <tr>\n",
              "      <th>2020-12-01</th>\n",
              "      <td>0.011726</td>\n",
              "      <td>0.001146</td>\n",
              "      <td>inf</td>\n",
              "    </tr>\n",
              "    <tr>\n",
              "      <th>2020-12-29</th>\n",
              "      <td>0.000830</td>\n",
              "      <td>0.000344</td>\n",
              "      <td>inf</td>\n",
              "    </tr>\n",
              "    <tr>\n",
              "      <th>2021-01-29</th>\n",
              "      <td>0.008161</td>\n",
              "      <td>0.000810</td>\n",
              "      <td>inf</td>\n",
              "    </tr>\n",
              "    <tr>\n",
              "      <th>2021-03-01</th>\n",
              "      <td>-0.000353</td>\n",
              "      <td>0.000480</td>\n",
              "      <td>-inf</td>\n",
              "    </tr>\n",
              "    <tr>\n",
              "      <th>2021-03-30</th>\n",
              "      <td>-0.000913</td>\n",
              "      <td>0.000252</td>\n",
              "      <td>-inf</td>\n",
              "    </tr>\n",
              "    <tr>\n",
              "      <th>2021-04-29</th>\n",
              "      <td>0.005119</td>\n",
              "      <td>0.000767</td>\n",
              "      <td>inf</td>\n",
              "    </tr>\n",
              "    <tr>\n",
              "      <th>2021-05-31</th>\n",
              "      <td>0.001651</td>\n",
              "      <td>0.000107</td>\n",
              "      <td>inf</td>\n",
              "    </tr>\n",
              "    <tr>\n",
              "      <th>2021-06-29</th>\n",
              "      <td>-0.003132</td>\n",
              "      <td>0.000561</td>\n",
              "      <td>-inf</td>\n",
              "    </tr>\n",
              "  </tbody>\n",
              "</table>\n",
              "</div>\n",
              "      <button class=\"colab-df-convert\" onclick=\"convertToInteractive('df-e261e936-f5ad-41c8-a04b-791e266cdf09')\"\n",
              "              title=\"Convert this dataframe to an interactive table.\"\n",
              "              style=\"display:none;\">\n",
              "        \n",
              "  <svg xmlns=\"http://www.w3.org/2000/svg\" height=\"24px\"viewBox=\"0 0 24 24\"\n",
              "       width=\"24px\">\n",
              "    <path d=\"M0 0h24v24H0V0z\" fill=\"none\"/>\n",
              "    <path d=\"M18.56 5.44l.94 2.06.94-2.06 2.06-.94-2.06-.94-.94-2.06-.94 2.06-2.06.94zm-11 1L8.5 8.5l.94-2.06 2.06-.94-2.06-.94L8.5 2.5l-.94 2.06-2.06.94zm10 10l.94 2.06.94-2.06 2.06-.94-2.06-.94-.94-2.06-.94 2.06-2.06.94z\"/><path d=\"M17.41 7.96l-1.37-1.37c-.4-.4-.92-.59-1.43-.59-.52 0-1.04.2-1.43.59L10.3 9.45l-7.72 7.72c-.78.78-.78 2.05 0 2.83L4 21.41c.39.39.9.59 1.41.59.51 0 1.02-.2 1.41-.59l7.78-7.78 2.81-2.81c.8-.78.8-2.07 0-2.86zM5.41 20L4 18.59l7.72-7.72 1.47 1.35L5.41 20z\"/>\n",
              "  </svg>\n",
              "      </button>\n",
              "      \n",
              "  <style>\n",
              "    .colab-df-container {\n",
              "      display:flex;\n",
              "      flex-wrap:wrap;\n",
              "      gap: 12px;\n",
              "    }\n",
              "\n",
              "    .colab-df-convert {\n",
              "      background-color: #E8F0FE;\n",
              "      border: none;\n",
              "      border-radius: 50%;\n",
              "      cursor: pointer;\n",
              "      display: none;\n",
              "      fill: #1967D2;\n",
              "      height: 32px;\n",
              "      padding: 0 0 0 0;\n",
              "      width: 32px;\n",
              "    }\n",
              "\n",
              "    .colab-df-convert:hover {\n",
              "      background-color: #E2EBFA;\n",
              "      box-shadow: 0px 1px 2px rgba(60, 64, 67, 0.3), 0px 1px 3px 1px rgba(60, 64, 67, 0.15);\n",
              "      fill: #174EA6;\n",
              "    }\n",
              "\n",
              "    [theme=dark] .colab-df-convert {\n",
              "      background-color: #3B4455;\n",
              "      fill: #D2E3FC;\n",
              "    }\n",
              "\n",
              "    [theme=dark] .colab-df-convert:hover {\n",
              "      background-color: #434B5C;\n",
              "      box-shadow: 0px 1px 3px 1px rgba(0, 0, 0, 0.15);\n",
              "      filter: drop-shadow(0px 1px 2px rgba(0, 0, 0, 0.3));\n",
              "      fill: #FFFFFF;\n",
              "    }\n",
              "  </style>\n",
              "\n",
              "      <script>\n",
              "        const buttonEl =\n",
              "          document.querySelector('#df-e261e936-f5ad-41c8-a04b-791e266cdf09 button.colab-df-convert');\n",
              "        buttonEl.style.display =\n",
              "          google.colab.kernel.accessAllowed ? 'block' : 'none';\n",
              "\n",
              "        async function convertToInteractive(key) {\n",
              "          const element = document.querySelector('#df-e261e936-f5ad-41c8-a04b-791e266cdf09');\n",
              "          const dataTable =\n",
              "            await google.colab.kernel.invokeFunction('convertToInteractive',\n",
              "                                                     [key], {});\n",
              "          if (!dataTable) return;\n",
              "\n",
              "          const docLinkHtml = 'Like what you see? Visit the ' +\n",
              "            '<a target=\"_blank\" href=https://colab.research.google.com/notebooks/data_table.ipynb>data table notebook</a>'\n",
              "            + ' to learn more about interactive tables.';\n",
              "          element.innerHTML = '';\n",
              "          dataTable['output_type'] = 'display_data';\n",
              "          await google.colab.output.renderOutput(dataTable, element);\n",
              "          const docLink = document.createElement('div');\n",
              "          docLink.innerHTML = docLinkHtml;\n",
              "          element.appendChild(docLink);\n",
              "        }\n",
              "      </script>\n",
              "    </div>\n",
              "  </div>\n",
              "  "
            ]
          },
          "metadata": {},
          "execution_count": 23
        }
      ]
    },
    {
      "cell_type": "markdown",
      "source": [
        "**Diagnostics **"
      ],
      "metadata": {
        "id": "PGbdZdFUmMfu"
      }
    },
    {
      "cell_type": "code",
      "source": [
        "import math\n",
        "MA_equity = [100]\n",
        "LR_equity = [100]\n",
        "LSTM_equity = [100]\n",
        "\n",
        "#This is the calculation for the for seeing how much the portfolio grows\n",
        "for i in range(1,60):\n",
        "  MA_equity.append(MA_equity[i-1]* math.exp(MA_scipy_returns[i]))\n",
        "  LR_equity.append(LR_equity[i-1]* math.exp(LR_scipy_returns[i]))\n",
        "  LSTM_equity.append(LSTM_equity[i-1]* math.exp(scipy_returns[i]))"
      ],
      "metadata": {
        "id": "By99eAPdmHdr"
      },
      "execution_count": null,
      "outputs": []
    },
    {
      "cell_type": "code",
      "source": [
        "plt.plot(timestamps, MA_equity,  label = \"Moving Average\")\n",
        "plt.plot(timestamps, LR_equity, label = \"ARIMA\")\n",
        "plt.plot(timestamps, LSTM_equity, label = \"LSTM\")\n",
        "plt.title(\"Equity Graph\")\n",
        "plt.legend()\n",
        "plt.show()"
      ],
      "metadata": {
        "colab": {
          "base_uri": "https://localhost:8080/",
          "height": 281
        },
        "id": "HifYRWa1mT4K",
        "outputId": "d089776b-c020-4497-90aa-72306accd863"
      },
      "execution_count": null,
      "outputs": [
        {
          "output_type": "display_data",
          "data": {
            "text/plain": [
              "<Figure size 432x288 with 1 Axes>"
            ],
            "image/png": "[encoded data removed]"
          },
          "metadata": {
            "needs_background": "light"
          }
        }
      ]
    },
    {
      "cell_type": "code",
      "source": [
        "plt.hist(LR_scipy_returns, bins = 60, label = 'Moving Avg', alpha = 1, color = 'green')\n",
        "plt.title(\"Moving Average Portfolio Distribution\")\n",
        "#plt.legend()\n",
        "#plt.show();\n",
        "plt.hist(MA_scipy_returns, bins = 60, label = 'ARIMA', alpha = 1, color = 'red')\n",
        "plt.title(\"ARIMA Portfolio Distribution\")\n",
        "#plt.legend()\n",
        "#plt.show();\n",
        "plt.hist(scipy_returns, bins = 60, label = 'LSTM', alpha = 1, color = 'blue') \n",
        "plt.title(\"Portfolio Returns Distribution\")\n",
        "plt.legend()\n",
        "plt.show()"
      ],
      "metadata": {
        "colab": {
          "base_uri": "https://localhost:8080/",
          "height": 281
        },
        "id": "6c0mZgJymXde",
        "outputId": "2d632604-7d9e-4982-8904-211aca1f618b"
      },
      "execution_count": null,
      "outputs": [
        {
          "output_type": "display_data",
          "data": {
            "text/plain": [
              "<Figure size 432x288 with 1 Axes>"
            ],
            "image/png": "[encoded data removed]"
          },
          "metadata": {
            "needs_background": "light"
          }
        }
      ]
    },
    {
      "cell_type": "code",
      "source": [
        "print(\"Moving Average Ending Equity: \" , MA_equity[-1])\n",
        "print(\"Linear Regression Ending Equity: \" , LR_equity[-1])\n",
        "print(\"LSTM Ending Equity\" , LSTM_equity[-1])"
      ],
      "metadata": {
        "colab": {
          "base_uri": "https://localhost:8080/"
        },
        "id": "9aaKSuF-meph",
        "outputId": "9d80e08b-031d-4feb-c209-386b09b2f53a"
      },
      "execution_count": null,
      "outputs": [
        {
          "output_type": "stream",
          "name": "stdout",
          "text": [
            "Moving Average Ending Equity:  114.92301944692984\n",
            "Linear Regression Ending Equity:  111.2492616160397\n",
            "LSTM Ending Equity 117.69085860325852\n"
          ]
        }
      ]
    },
    {
      "cell_type": "code",
      "source": [
        "import math\n",
        "def metrics(returns): \n",
        "  sharpe = returns.mean() / returns.std()\n",
        "  annualized_sharpe = sharpe.item() / math.sqrt(252)\n",
        "\n",
        "  stdev = returns.std() \n",
        "  annualized_vol = stdev.item() / math.sqrt(252)\n",
        "\n",
        "\n",
        "  return {\"Annualized Sharpe Ratio\": annualized_sharpe,\n",
        "          \"Annualized Volatility\": annualized_vol}"
      ],
      "metadata": {
        "id": "JUKt23ktmkXb"
      },
      "execution_count": null,
      "outputs": []
    },
    {
      "cell_type": "code",
      "source": [
        "#Annualized info for Moving Average\n",
        "metrics(np.array(MA_scipy_returns))"
      ],
      "metadata": {
        "colab": {
          "base_uri": "https://localhost:8080/"
        },
        "id": "RNFbeuUymnsw",
        "outputId": "1c55651a-d5ec-4646-925d-730bdd5f8fbd"
      },
      "execution_count": null,
      "outputs": [
        {
          "output_type": "execute_result",
          "data": {
            "text/plain": [
              "{'Annualized Sharpe Ratio': 0.06728386815230766,\n",
              " 'Annualized Volatility': 0.0001400593165838116}"
            ]
          },
          "metadata": {},
          "execution_count": 29
        }
      ]
    },
    {
      "cell_type": "code",
      "source": [
        "#Annualized info for Linear Regression\n",
        "metrics(np.array(LR_scipy_returns))"
      ],
      "metadata": {
        "colab": {
          "base_uri": "https://localhost:8080/"
        },
        "id": "ReadoFpJmqSu",
        "outputId": "d59222c4-9c29-495d-cb29-c24aea7a7b76"
      },
      "execution_count": null,
      "outputs": [
        {
          "output_type": "execute_result",
          "data": {
            "text/plain": [
              "{'Annualized Sharpe Ratio': 0.021590927308423154,\n",
              " 'Annualized Volatility': 0.0003160890481004423}"
            ]
          },
          "metadata": {},
          "execution_count": 30
        }
      ]
    },
    {
      "cell_type": "code",
      "source": [
        "#Annualized info for LSTM\n",
        "metrics(np.array(scipy_returns))"
      ],
      "metadata": {
        "colab": {
          "base_uri": "https://localhost:8080/"
        },
        "id": "zM8wvVTZmtO3",
        "outputId": "75483f62-fdfa-496a-babf-239b4dfede81"
      },
      "execution_count": null,
      "outputs": [
        {
          "output_type": "execute_result",
          "data": {
            "text/plain": [
              "{'Annualized Sharpe Ratio': 0.029639924788035177,\n",
              " 'Annualized Volatility': 0.00036889409644620214}"
            ]
          },
          "metadata": {},
          "execution_count": 31
        }
      ]
    },
    {
      "cell_type": "code",
      "source": [],
      "metadata": {
        "id": "qx7NaJfnmwbF"
      },
      "execution_count": null,
      "outputs": []
    }
  ]
}