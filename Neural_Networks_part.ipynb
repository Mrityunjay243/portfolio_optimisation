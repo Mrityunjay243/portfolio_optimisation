{
  "nbformat": 4,
  "nbformat_minor": 0,
  "metadata": {
    "colab": {
      "provenance": []
    },
    "kernelspec": {
      "name": "python3",
      "display_name": "Python 3"
    },
    "language_info": {
      "name": "python"
    }
  },
  "cells": [
    {
      "cell_type": "code",
      "execution_count": null,
      "metadata": {
        "colab": {
          "base_uri": "https://localhost:8080/"
        },
        "id": "Ymf4JbdXX5Hm",
        "outputId": "f7aaac18-6954-45e2-b16c-649070e21a4d"
      },
      "outputs": [
        {
          "output_type": "stream",
          "name": "stdout",
          "text": [
            "[name: \"/device:CPU:0\"\n",
            "device_type: \"CPU\"\n",
            "memory_limit: 268435456\n",
            "locality {\n",
            "}\n",
            "incarnation: 1993217540940559742\n",
            "xla_global_id: -1\n",
            "]\n"
          ]
        }
      ],
      "source": [
        "from tensorflow.python.client import device_lib\n",
        "print(device_lib.list_local_devices())"
      ]
    },
    {
      "cell_type": "code",
      "source": [
        "from pydrive.auth import GoogleAuth \n",
        "from pydrive.drive import GoogleDrive \n",
        "from google.colab import auth \n",
        "from oauth2client.client import GoogleCredentials \n",
        "  \n",
        "  \n",
        "# Authenticate and create the PyDrive client. \n",
        "auth.authenticate_user() \n",
        "gauth = GoogleAuth() \n",
        "gauth.credentials = GoogleCredentials.get_application_default() \n",
        "drive = GoogleDrive(gauth)"
      ],
      "metadata": {
        "id": "XLcm01ssX_jZ"
      },
      "execution_count": null,
      "outputs": []
    },
    {
      "cell_type": "code",
      "source": [
        "#This part linkes the dataset in the drive to the google colab file\n",
        "#oldlink = 'https://drive.google.com/file/d/1TxMpCYlXbuakmrVVacn6IRT6kOVEP-Cf/view?usp=sharing'\n",
        "link = 'https://drive.google.com/file/d/1TH1vQRhqoRNfuKZgVsMVnfkrjS60ChXL/view?usp=sharing'\n",
        "id = link.split('/')[-2]\n",
        "downloaded = drive.CreateFile({'id' : id})\n",
        "downloaded.GetContentFile('StockPrices.csv')"
      ],
      "metadata": {
        "id": "vTpmU3LhYR4E"
      },
      "execution_count": null,
      "outputs": []
    },
    {
      "cell_type": "code",
      "source": [
        "import pandas as pd\n",
        "import numpy as np\n",
        "import matplotlib.pyplot as plt\n",
        "import seaborn as sns\n",
        "%matplotlib inline\n",
        "\n",
        "df = pd.read_csv('StockPrices.csv')\n",
        "df[\"DailyRet\"] = 0\n",
        "df[\"20DayRet\"] = 0\n",
        "df[\"20DayVol\"] = 0\n",
        "df[\"Z20DayRet\"] = 0\n",
        "df['Z20DayVol'] = 0\n",
        "df['Date']= pd.to_datetime(df['Date'])\n",
        "df_close = df[['Date', 'Index', 'Close']] \n",
        "df_close.info()\n",
        "df_close = df_close.pivot_table(index = 'Date', columns = 'Index', values = 'Close').dropna(axis=1)\n",
        "stocks_tickers = df_close.columns"
      ],
      "metadata": {
        "colab": {
          "base_uri": "https://localhost:8080/"
        },
        "id": "1r2SEEHaYY3Q",
        "outputId": "053096b3-0a79-471e-dec9-fc9078042d2c"
      },
      "execution_count": null,
      "outputs": [
        {
          "output_type": "stream",
          "name": "stdout",
          "text": [
            "<class 'pandas.core.frame.DataFrame'>\n",
            "RangeIndex: 199746 entries, 0 to 199745\n",
            "Data columns (total 3 columns):\n",
            " #   Column  Non-Null Count   Dtype         \n",
            "---  ------  --------------   -----         \n",
            " 0   Date    199746 non-null  datetime64[ns]\n",
            " 1   Index   199746 non-null  object        \n",
            " 2   Close   199422 non-null  float64       \n",
            "dtypes: datetime64[ns](1), float64(1), object(1)\n",
            "memory usage: 4.6+ MB\n"
          ]
        }
      ]
    },
    {
      "cell_type": "code",
      "source": [
        "#Saving Trading Days\n",
        "dates = df_close.index \n",
        "\n",
        "#Saving Stocks\n",
        "stocks = df_close.columns"
      ],
      "metadata": {
        "id": "3HfpZuXjYi-J"
      },
      "execution_count": null,
      "outputs": []
    },
    {
      "cell_type": "code",
      "source": [
        "df.columns"
      ],
      "metadata": {
        "colab": {
          "base_uri": "https://localhost:8080/"
        },
        "id": "8uDqpXOnwONW",
        "outputId": "aed0c8b8-c4c4-4d53-feed-fc628ed8a6d5"
      },
      "execution_count": null,
      "outputs": [
        {
          "output_type": "execute_result",
          "data": {
            "text/plain": [
              "Index(['Date', 'Index', 'Open', 'High', 'Low', 'Close', 'Volume', 'Adjusted',\n",
              "       'DailyRet', '20DayRet', '20DayVol', 'Z20DayRet', 'Z20DayVol'],\n",
              "      dtype='object')"
            ]
          },
          "metadata": {},
          "execution_count": 6
        }
      ]
    },
    {
      "cell_type": "code",
      "source": [
        "raw_df = df.set_index(['Date' , 'Index']).unstack(level = 1).stack(level = 0).unstack()\n",
        "#raw_df = raw_df.dropna(axis = 1)\n",
        "for stock in stocks_tickers:\n",
        "  #Calculate Daily Returns\n",
        "  raw_df.loc[:, (stock, 'DailyRet')] = raw_df[stock][\"Close\"].pct_change()\n",
        "  #Calculate 20-Day Returns\n",
        "  raw_df.loc[:, (stock, '20DayRet')] = raw_df[stock][\"Close\"].pct_change(20)\n",
        "  #Calculate Rolling 20 day volatility \n",
        "  roller = raw_df[stock][\"DailyRet\"].rolling(20)\n",
        "  raw_df.loc[:, (stock, '20DayVol')] = roller.std(ddof=0)\n",
        "  \n",
        "  '''Normalize data with the rolling 252'''\n",
        "  #Normalize 20 Day Returns \n",
        "  rolling_year_ret = raw_df[stock][\"20DayRet\"].rolling(252)\n",
        "  raw_df.loc[:, (stock, 'Z20DayRet')] = (rolling_year_ret.mean().shift(1) - raw_df[stock]['20DayRet']) / rolling_year_ret.std(ddof=0).shift(1)\n",
        "  #Normalize 20 Day Volatility\n",
        "  rolling_year_vol = raw_df[stock][\"20DayVol\"].rolling(252)\n",
        "  raw_df.loc[:, (stock, 'Z20DayVol')] = (rolling_year_vol.mean().shift(1) - raw_df[stock]['20DayVol']) / rolling_year_vol.std(ddof=0).shift(1) \n",
        "\n",
        "raw_df.head(5)  "
      ],
      "metadata": {
        "colab": {
          "base_uri": "https://localhost:8080/",
          "height": 449
        },
        "id": "wsCfIoeqTdTD",
        "outputId": "216eeef7-ce2c-4bad-f18f-f3df983d84f3"
      },
      "execution_count": null,
      "outputs": [
        {
          "output_type": "execute_result",
          "data": {
            "text/plain": [
              "Index        ACC.NS                                                            \\\n",
              "           20DayRet 20DayVol     Adjusted        Close  DailyRet         High   \n",
              "Date                                                                            \n",
              "2012-08-16      NaN      NaN  1118.372803  1338.449951       NaN  1358.050049   \n",
              "2012-08-17      NaN      NaN  1108.262207  1326.349976 -0.009040  1338.449951   \n",
              "2012-08-21      NaN      NaN  1134.583008  1357.849976  0.023749  1363.000000   \n",
              "2012-08-22      NaN      NaN  1137.256836  1361.050049  0.002357  1370.800049   \n",
              "2012-08-23      NaN      NaN  1125.308228  1346.750000 -0.010507  1367.900024   \n",
              "\n",
              "Index                                                     ... ZYDUSLIFE.NS  \\\n",
              "                    Low         Open    Volume Z20DayRet  ...     20DayVol   \n",
              "Date                                                      ...                \n",
              "2012-08-16  1335.099976  1356.000000  124774.0       NaN  ...          NaN   \n",
              "2012-08-17  1320.150024  1335.150024  190538.0       NaN  ...          NaN   \n",
              "2012-08-21  1320.000000  1330.000000  175534.0       NaN  ...          NaN   \n",
              "2012-08-22  1345.199951  1351.500000  180195.0       NaN  ...          NaN   \n",
              "2012-08-23  1340.000000  1366.000000  139318.0       NaN  ...          NaN   \n",
              "\n",
              "Index                                                                 \\\n",
              "              Adjusted       Close  DailyRet        High         Low   \n",
              "Date                                                                   \n",
              "2012-08-16  153.041046  172.830002       NaN  173.940002  170.199997   \n",
              "2012-08-17  155.095383  175.149994  0.013424  175.949997  173.000000   \n",
              "2012-08-21  152.810791  172.570007 -0.014730  177.800003  170.199997   \n",
              "2012-08-22  155.449600  175.550003  0.017268  177.970001  173.000000   \n",
              "2012-08-23  154.245285  174.190002 -0.007747  177.539993  173.059998   \n",
              "\n",
              "Index                                                 \n",
              "                  Open    Volume Z20DayRet Z20DayVol  \n",
              "Date                                                  \n",
              "2012-08-16  173.809998  465130.0       NaN       NaN  \n",
              "2012-08-17  173.000000   77795.0       NaN       NaN  \n",
              "2012-08-21  175.399994  291750.0       NaN       NaN  \n",
              "2012-08-22  173.000000  226630.0       NaN       NaN  \n",
              "2012-08-23  176.000000  114420.0       NaN       NaN  \n",
              "\n",
              "[5 rows x 891 columns]"
            ],
            "text/html": [
              "\n",
              "  <div id=\"df-f4de22bd-7490-45d7-ac3c-f299f2b43a46\">\n",
              "    <div class=\"colab-df-container\">\n",
              "      <div>\n",
              "<style scoped>\n",
              "    .dataframe tbody tr th:only-of-type {\n",
              "        vertical-align: middle;\n",
              "    }\n",
              "\n",
              "    .dataframe tbody tr th {\n",
              "        vertical-align: top;\n",
              "    }\n",
              "\n",
              "    .dataframe thead tr th {\n",
              "        text-align: left;\n",
              "    }\n",
              "\n",
              "    .dataframe thead tr:last-of-type th {\n",
              "        text-align: right;\n",
              "    }\n",
              "</style>\n",
              "<table border=\"1\" class=\"dataframe\">\n",
              "  <thead>\n",
              "    <tr>\n",
              "      <th>Index</th>\n",
              "      <th colspan=\"10\" halign=\"left\">ACC.NS</th>\n",
              "      <th>...</th>\n",
              "      <th colspan=\"10\" halign=\"left\">ZYDUSLIFE.NS</th>\n",
              "    </tr>\n",
              "    <tr>\n",
              "      <th></th>\n",
              "      <th>20DayRet</th>\n",
              "      <th>20DayVol</th>\n",
              "      <th>Adjusted</th>\n",
              "      <th>Close</th>\n",
              "      <th>DailyRet</th>\n",
              "      <th>High</th>\n",
              "      <th>Low</th>\n",
              "      <th>Open</th>\n",
              "      <th>Volume</th>\n",
              "      <th>Z20DayRet</th>\n",
              "      <th>...</th>\n",
              "      <th>20DayVol</th>\n",
              "      <th>Adjusted</th>\n",
              "      <th>Close</th>\n",
              "      <th>DailyRet</th>\n",
              "      <th>High</th>\n",
              "      <th>Low</th>\n",
              "      <th>Open</th>\n",
              "      <th>Volume</th>\n",
              "      <th>Z20DayRet</th>\n",
              "      <th>Z20DayVol</th>\n",
              "    </tr>\n",
              "    <tr>\n",
              "      <th>Date</th>\n",
              "      <th></th>\n",
              "      <th></th>\n",
              "      <th></th>\n",
              "      <th></th>\n",
              "      <th></th>\n",
              "      <th></th>\n",
              "      <th></th>\n",
              "      <th></th>\n",
              "      <th></th>\n",
              "      <th></th>\n",
              "      <th></th>\n",
              "      <th></th>\n",
              "      <th></th>\n",
              "      <th></th>\n",
              "      <th></th>\n",
              "      <th></th>\n",
              "      <th></th>\n",
              "      <th></th>\n",
              "      <th></th>\n",
              "      <th></th>\n",
              "      <th></th>\n",
              "    </tr>\n",
              "  </thead>\n",
              "  <tbody>\n",
              "    <tr>\n",
              "      <th>2012-08-16</th>\n",
              "      <td>NaN</td>\n",
              "      <td>NaN</td>\n",
              "      <td>1118.372803</td>\n",
              "      <td>1338.449951</td>\n",
              "      <td>NaN</td>\n",
              "      <td>1358.050049</td>\n",
              "      <td>1335.099976</td>\n",
              "      <td>1356.000000</td>\n",
              "      <td>124774.0</td>\n",
              "      <td>NaN</td>\n",
              "      <td>...</td>\n",
              "      <td>NaN</td>\n",
              "      <td>153.041046</td>\n",
              "      <td>172.830002</td>\n",
              "      <td>NaN</td>\n",
              "      <td>173.940002</td>\n",
              "      <td>170.199997</td>\n",
              "      <td>173.809998</td>\n",
              "      <td>465130.0</td>\n",
              "      <td>NaN</td>\n",
              "      <td>NaN</td>\n",
              "    </tr>\n",
              "    <tr>\n",
              "      <th>2012-08-17</th>\n",
              "      <td>NaN</td>\n",
              "      <td>NaN</td>\n",
              "      <td>1108.262207</td>\n",
              "      <td>1326.349976</td>\n",
              "      <td>-0.009040</td>\n",
              "      <td>1338.449951</td>\n",
              "      <td>1320.150024</td>\n",
              "      <td>1335.150024</td>\n",
              "      <td>190538.0</td>\n",
              "      <td>NaN</td>\n",
              "      <td>...</td>\n",
              "      <td>NaN</td>\n",
              "      <td>155.095383</td>\n",
              "      <td>175.149994</td>\n",
              "      <td>0.013424</td>\n",
              "      <td>175.949997</td>\n",
              "      <td>173.000000</td>\n",
              "      <td>173.000000</td>\n",
              "      <td>77795.0</td>\n",
              "      <td>NaN</td>\n",
              "      <td>NaN</td>\n",
              "    </tr>\n",
              "    <tr>\n",
              "      <th>2012-08-21</th>\n",
              "      <td>NaN</td>\n",
              "      <td>NaN</td>\n",
              "      <td>1134.583008</td>\n",
              "      <td>1357.849976</td>\n",
              "      <td>0.023749</td>\n",
              "      <td>1363.000000</td>\n",
              "      <td>1320.000000</td>\n",
              "      <td>1330.000000</td>\n",
              "      <td>175534.0</td>\n",
              "      <td>NaN</td>\n",
              "      <td>...</td>\n",
              "      <td>NaN</td>\n",
              "      <td>152.810791</td>\n",
              "      <td>172.570007</td>\n",
              "      <td>-0.014730</td>\n",
              "      <td>177.800003</td>\n",
              "      <td>170.199997</td>\n",
              "      <td>175.399994</td>\n",
              "      <td>291750.0</td>\n",
              "      <td>NaN</td>\n",
              "      <td>NaN</td>\n",
              "    </tr>\n",
              "    <tr>\n",
              "      <th>2012-08-22</th>\n",
              "      <td>NaN</td>\n",
              "      <td>NaN</td>\n",
              "      <td>1137.256836</td>\n",
              "      <td>1361.050049</td>\n",
              "      <td>0.002357</td>\n",
              "      <td>1370.800049</td>\n",
              "      <td>1345.199951</td>\n",
              "      <td>1351.500000</td>\n",
              "      <td>180195.0</td>\n",
              "      <td>NaN</td>\n",
              "      <td>...</td>\n",
              "      <td>NaN</td>\n",
              "      <td>155.449600</td>\n",
              "      <td>175.550003</td>\n",
              "      <td>0.017268</td>\n",
              "      <td>177.970001</td>\n",
              "      <td>173.000000</td>\n",
              "      <td>173.000000</td>\n",
              "      <td>226630.0</td>\n",
              "      <td>NaN</td>\n",
              "      <td>NaN</td>\n",
              "    </tr>\n",
              "    <tr>\n",
              "      <th>2012-08-23</th>\n",
              "      <td>NaN</td>\n",
              "      <td>NaN</td>\n",
              "      <td>1125.308228</td>\n",
              "      <td>1346.750000</td>\n",
              "      <td>-0.010507</td>\n",
              "      <td>1367.900024</td>\n",
              "      <td>1340.000000</td>\n",
              "      <td>1366.000000</td>\n",
              "      <td>139318.0</td>\n",
              "      <td>NaN</td>\n",
              "      <td>...</td>\n",
              "      <td>NaN</td>\n",
              "      <td>154.245285</td>\n",
              "      <td>174.190002</td>\n",
              "      <td>-0.007747</td>\n",
              "      <td>177.539993</td>\n",
              "      <td>173.059998</td>\n",
              "      <td>176.000000</td>\n",
              "      <td>114420.0</td>\n",
              "      <td>NaN</td>\n",
              "      <td>NaN</td>\n",
              "    </tr>\n",
              "  </tbody>\n",
              "</table>\n",
              "<p>5 rows × 891 columns</p>\n",
              "</div>\n",
              "      <button class=\"colab-df-convert\" onclick=\"convertToInteractive('df-f4de22bd-7490-45d7-ac3c-f299f2b43a46')\"\n",
              "              title=\"Convert this dataframe to an interactive table.\"\n",
              "              style=\"display:none;\">\n",
              "        \n",
              "  <svg xmlns=\"http://www.w3.org/2000/svg\" height=\"24px\"viewBox=\"0 0 24 24\"\n",
              "       width=\"24px\">\n",
              "    <path d=\"M0 0h24v24H0V0z\" fill=\"none\"/>\n",
              "    <path d=\"M18.56 5.44l.94 2.06.94-2.06 2.06-.94-2.06-.94-.94-2.06-.94 2.06-2.06.94zm-11 1L8.5 8.5l.94-2.06 2.06-.94-2.06-.94L8.5 2.5l-.94 2.06-2.06.94zm10 10l.94 2.06.94-2.06 2.06-.94-2.06-.94-.94-2.06-.94 2.06-2.06.94z\"/><path d=\"M17.41 7.96l-1.37-1.37c-.4-.4-.92-.59-1.43-.59-.52 0-1.04.2-1.43.59L10.3 9.45l-7.72 7.72c-.78.78-.78 2.05 0 2.83L4 21.41c.39.39.9.59 1.41.59.51 0 1.02-.2 1.41-.59l7.78-7.78 2.81-2.81c.8-.78.8-2.07 0-2.86zM5.41 20L4 18.59l7.72-7.72 1.47 1.35L5.41 20z\"/>\n",
              "  </svg>\n",
              "      </button>\n",
              "      \n",
              "  <style>\n",
              "    .colab-df-container {\n",
              "      display:flex;\n",
              "      flex-wrap:wrap;\n",
              "      gap: 12px;\n",
              "    }\n",
              "\n",
              "    .colab-df-convert {\n",
              "      background-color: #E8F0FE;\n",
              "      border: none;\n",
              "      border-radius: 50%;\n",
              "      cursor: pointer;\n",
              "      display: none;\n",
              "      fill: #1967D2;\n",
              "      height: 32px;\n",
              "      padding: 0 0 0 0;\n",
              "      width: 32px;\n",
              "    }\n",
              "\n",
              "    .colab-df-convert:hover {\n",
              "      background-color: #E2EBFA;\n",
              "      box-shadow: 0px 1px 2px rgba(60, 64, 67, 0.3), 0px 1px 3px 1px rgba(60, 64, 67, 0.15);\n",
              "      fill: #174EA6;\n",
              "    }\n",
              "\n",
              "    [theme=dark] .colab-df-convert {\n",
              "      background-color: #3B4455;\n",
              "      fill: #D2E3FC;\n",
              "    }\n",
              "\n",
              "    [theme=dark] .colab-df-convert:hover {\n",
              "      background-color: #434B5C;\n",
              "      box-shadow: 0px 1px 3px 1px rgba(0, 0, 0, 0.15);\n",
              "      filter: drop-shadow(0px 1px 2px rgba(0, 0, 0, 0.3));\n",
              "      fill: #FFFFFF;\n",
              "    }\n",
              "  </style>\n",
              "\n",
              "      <script>\n",
              "        const buttonEl =\n",
              "          document.querySelector('#df-f4de22bd-7490-45d7-ac3c-f299f2b43a46 button.colab-df-convert');\n",
              "        buttonEl.style.display =\n",
              "          google.colab.kernel.accessAllowed ? 'block' : 'none';\n",
              "\n",
              "        async function convertToInteractive(key) {\n",
              "          const element = document.querySelector('#df-f4de22bd-7490-45d7-ac3c-f299f2b43a46');\n",
              "          const dataTable =\n",
              "            await google.colab.kernel.invokeFunction('convertToInteractive',\n",
              "                                                     [key], {});\n",
              "          if (!dataTable) return;\n",
              "\n",
              "          const docLinkHtml = 'Like what you see? Visit the ' +\n",
              "            '<a target=\"_blank\" href=https://colab.research.google.com/notebooks/data_table.ipynb>data table notebook</a>'\n",
              "            + ' to learn more about interactive tables.';\n",
              "          element.innerHTML = '';\n",
              "          dataTable['output_type'] = 'display_data';\n",
              "          await google.colab.output.renderOutput(dataTable, element);\n",
              "          const docLink = document.createElement('div');\n",
              "          docLink.innerHTML = docLinkHtml;\n",
              "          element.appendChild(docLink);\n",
              "        }\n",
              "      </script>\n",
              "    </div>\n",
              "  </div>\n",
              "  "
            ]
          },
          "metadata": {},
          "execution_count": 7
        }
      ]
    },
    {
      "cell_type": "code",
      "source": [
        "#DROP ROWS WITH NA vals \n",
        "full_feature_dataset = raw_df.dropna(axis=0)\n",
        "#full_feature_dataset = raw_df"
      ],
      "metadata": {
        "id": "1wIx4kFMUGUG"
      },
      "execution_count": null,
      "outputs": []
    },
    {
      "cell_type": "code",
      "source": [
        "raw_df.index"
      ],
      "metadata": {
        "colab": {
          "base_uri": "https://localhost:8080/"
        },
        "id": "zBJKZUV1vtLs",
        "outputId": "e520b1ba-bce1-43c8-f36f-913fe2f347d5"
      },
      "execution_count": null,
      "outputs": [
        {
          "output_type": "execute_result",
          "data": {
            "text/plain": [
              "DatetimeIndex(['2012-08-16', '2012-08-17', '2012-08-21', '2012-08-22',\n",
              "               '2012-08-23', '2012-08-24', '2012-08-27', '2012-08-28',\n",
              "               '2012-08-29', '2012-08-30',\n",
              "               ...\n",
              "               '2022-07-29', '2022-08-01', '2022-08-02', '2022-08-03',\n",
              "               '2022-08-04', '2022-08-05', '2022-08-08', '2022-08-10',\n",
              "               '2022-08-11', '2022-08-12'],\n",
              "              dtype='datetime64[ns]', name='Date', length=2466, freq=None)"
            ]
          },
          "metadata": {},
          "execution_count": 9
        }
      ]
    },
    {
      "cell_type": "code",
      "source": [
        "full_features = raw_df[[]].columns.remove_unused_levels()"
      ],
      "metadata": {
        "id": "08tnLaLoaV6o"
      },
      "execution_count": null,
      "outputs": []
    },
    {
      "cell_type": "markdown",
      "source": [
        "Principal Component Analysis"
      ],
      "metadata": {
        "id": "qCnrTKUmcjfn"
      }
    },
    {
      "cell_type": "code",
      "source": [
        "full_feature_dataset.head()"
      ],
      "metadata": {
        "colab": {
          "base_uri": "https://localhost:8080/",
          "height": 449
        },
        "id": "eCsmNV7NckMq",
        "outputId": "823fe452-997a-4527-afea-b8330b356b86"
      },
      "execution_count": null,
      "outputs": [
        {
          "output_type": "execute_result",
          "data": {
            "text/plain": [
              "Index         ACC.NS                                                        \\\n",
              "            20DayRet  20DayVol    Adjusted        Close  DailyRet     High   \n",
              "Date                                                                         \n",
              "2013-09-23  0.122714  0.024518  952.846985  1111.150024 -0.010772  1138.00   \n",
              "2013-09-24  0.096307  0.024759  941.999268  1098.500000 -0.011385  1125.00   \n",
              "2013-09-25  0.161487  0.020091  939.040649  1095.050049 -0.003141  1106.75   \n",
              "2013-09-26  0.159416  0.020120  939.255127  1095.300049  0.000228  1117.75   \n",
              "2013-09-27  0.147696  0.020078  942.899475  1099.550049  0.003880  1115.00   \n",
              "\n",
              "Index                                                     ... ZYDUSLIFE.NS  \\\n",
              "                    Low         Open    Volume Z20DayRet  ...     20DayVol   \n",
              "Date                                                      ...                \n",
              "2013-09-23  1090.300049  1110.150024  390593.0 -2.061994  ...     0.008589   \n",
              "2013-09-24  1086.150024  1100.150024  183976.0 -1.660285  ...     0.008368   \n",
              "2013-09-25  1076.300049  1090.099976  261395.0 -2.581359  ...     0.008414   \n",
              "2013-09-26  1082.349976  1090.000000  382724.0 -2.511170  ...     0.008176   \n",
              "2013-09-27  1093.099976  1100.000000  173613.0 -2.309323  ...     0.008424   \n",
              "\n",
              "Index                                                                 \\\n",
              "              Adjusted       Close  DailyRet        High         Low   \n",
              "Date                                                                   \n",
              "2013-09-23  122.460777  136.940002 -0.000365  138.759995  133.740005   \n",
              "2013-09-24  122.577042  137.070007  0.000949  137.770004  135.399994   \n",
              "2013-09-25  122.147797  136.589996 -0.003502  138.440002  135.339996   \n",
              "2013-09-26  122.478668  136.960007  0.002709  137.570007  135.300003   \n",
              "2013-09-27  123.954208  138.610001  0.012047  139.800003  135.929993   \n",
              "\n",
              "Index                                                  \n",
              "                  Open     Volume Z20DayRet Z20DayVol  \n",
              "Date                                                   \n",
              "2013-09-23  136.600006   270455.0 -0.884901  1.381906  \n",
              "2013-09-24  136.419998  1447475.0 -1.015956  1.423397  \n",
              "2013-09-25  138.440002    57360.0 -0.987478  1.401759  \n",
              "2013-09-26  136.800003   148420.0 -1.137849  1.444183  \n",
              "2013-09-27  137.699997   139545.0 -1.245373  1.374823  \n",
              "\n",
              "[5 rows x 891 columns]"
            ],
            "text/html": [
              "\n",
              "  <div id=\"df-0df0c6e0-a474-472d-8898-942c614cf649\">\n",
              "    <div class=\"colab-df-container\">\n",
              "      <div>\n",
              "<style scoped>\n",
              "    .dataframe tbody tr th:only-of-type {\n",
              "        vertical-align: middle;\n",
              "    }\n",
              "\n",
              "    .dataframe tbody tr th {\n",
              "        vertical-align: top;\n",
              "    }\n",
              "\n",
              "    .dataframe thead tr th {\n",
              "        text-align: left;\n",
              "    }\n",
              "\n",
              "    .dataframe thead tr:last-of-type th {\n",
              "        text-align: right;\n",
              "    }\n",
              "</style>\n",
              "<table border=\"1\" class=\"dataframe\">\n",
              "  <thead>\n",
              "    <tr>\n",
              "      <th>Index</th>\n",
              "      <th colspan=\"10\" halign=\"left\">ACC.NS</th>\n",
              "      <th>...</th>\n",
              "      <th colspan=\"10\" halign=\"left\">ZYDUSLIFE.NS</th>\n",
              "    </tr>\n",
              "    <tr>\n",
              "      <th></th>\n",
              "      <th>20DayRet</th>\n",
              "      <th>20DayVol</th>\n",
              "      <th>Adjusted</th>\n",
              "      <th>Close</th>\n",
              "      <th>DailyRet</th>\n",
              "      <th>High</th>\n",
              "      <th>Low</th>\n",
              "      <th>Open</th>\n",
              "      <th>Volume</th>\n",
              "      <th>Z20DayRet</th>\n",
              "      <th>...</th>\n",
              "      <th>20DayVol</th>\n",
              "      <th>Adjusted</th>\n",
              "      <th>Close</th>\n",
              "      <th>DailyRet</th>\n",
              "      <th>High</th>\n",
              "      <th>Low</th>\n",
              "      <th>Open</th>\n",
              "      <th>Volume</th>\n",
              "      <th>Z20DayRet</th>\n",
              "      <th>Z20DayVol</th>\n",
              "    </tr>\n",
              "    <tr>\n",
              "      <th>Date</th>\n",
              "      <th></th>\n",
              "      <th></th>\n",
              "      <th></th>\n",
              "      <th></th>\n",
              "      <th></th>\n",
              "      <th></th>\n",
              "      <th></th>\n",
              "      <th></th>\n",
              "      <th></th>\n",
              "      <th></th>\n",
              "      <th></th>\n",
              "      <th></th>\n",
              "      <th></th>\n",
              "      <th></th>\n",
              "      <th></th>\n",
              "      <th></th>\n",
              "      <th></th>\n",
              "      <th></th>\n",
              "      <th></th>\n",
              "      <th></th>\n",
              "      <th></th>\n",
              "    </tr>\n",
              "  </thead>\n",
              "  <tbody>\n",
              "    <tr>\n",
              "      <th>2013-09-23</th>\n",
              "      <td>0.122714</td>\n",
              "      <td>0.024518</td>\n",
              "      <td>952.846985</td>\n",
              "      <td>1111.150024</td>\n",
              "      <td>-0.010772</td>\n",
              "      <td>1138.00</td>\n",
              "      <td>1090.300049</td>\n",
              "      <td>1110.150024</td>\n",
              "      <td>390593.0</td>\n",
              "      <td>-2.061994</td>\n",
              "      <td>...</td>\n",
              "      <td>0.008589</td>\n",
              "      <td>122.460777</td>\n",
              "      <td>136.940002</td>\n",
              "      <td>-0.000365</td>\n",
              "      <td>138.759995</td>\n",
              "      <td>133.740005</td>\n",
              "      <td>136.600006</td>\n",
              "      <td>270455.0</td>\n",
              "      <td>-0.884901</td>\n",
              "      <td>1.381906</td>\n",
              "    </tr>\n",
              "    <tr>\n",
              "      <th>2013-09-24</th>\n",
              "      <td>0.096307</td>\n",
              "      <td>0.024759</td>\n",
              "      <td>941.999268</td>\n",
              "      <td>1098.500000</td>\n",
              "      <td>-0.011385</td>\n",
              "      <td>1125.00</td>\n",
              "      <td>1086.150024</td>\n",
              "      <td>1100.150024</td>\n",
              "      <td>183976.0</td>\n",
              "      <td>-1.660285</td>\n",
              "      <td>...</td>\n",
              "      <td>0.008368</td>\n",
              "      <td>122.577042</td>\n",
              "      <td>137.070007</td>\n",
              "      <td>0.000949</td>\n",
              "      <td>137.770004</td>\n",
              "      <td>135.399994</td>\n",
              "      <td>136.419998</td>\n",
              "      <td>1447475.0</td>\n",
              "      <td>-1.015956</td>\n",
              "      <td>1.423397</td>\n",
              "    </tr>\n",
              "    <tr>\n",
              "      <th>2013-09-25</th>\n",
              "      <td>0.161487</td>\n",
              "      <td>0.020091</td>\n",
              "      <td>939.040649</td>\n",
              "      <td>1095.050049</td>\n",
              "      <td>-0.003141</td>\n",
              "      <td>1106.75</td>\n",
              "      <td>1076.300049</td>\n",
              "      <td>1090.099976</td>\n",
              "      <td>261395.0</td>\n",
              "      <td>-2.581359</td>\n",
              "      <td>...</td>\n",
              "      <td>0.008414</td>\n",
              "      <td>122.147797</td>\n",
              "      <td>136.589996</td>\n",
              "      <td>-0.003502</td>\n",
              "      <td>138.440002</td>\n",
              "      <td>135.339996</td>\n",
              "      <td>138.440002</td>\n",
              "      <td>57360.0</td>\n",
              "      <td>-0.987478</td>\n",
              "      <td>1.401759</td>\n",
              "    </tr>\n",
              "    <tr>\n",
              "      <th>2013-09-26</th>\n",
              "      <td>0.159416</td>\n",
              "      <td>0.020120</td>\n",
              "      <td>939.255127</td>\n",
              "      <td>1095.300049</td>\n",
              "      <td>0.000228</td>\n",
              "      <td>1117.75</td>\n",
              "      <td>1082.349976</td>\n",
              "      <td>1090.000000</td>\n",
              "      <td>382724.0</td>\n",
              "      <td>-2.511170</td>\n",
              "      <td>...</td>\n",
              "      <td>0.008176</td>\n",
              "      <td>122.478668</td>\n",
              "      <td>136.960007</td>\n",
              "      <td>0.002709</td>\n",
              "      <td>137.570007</td>\n",
              "      <td>135.300003</td>\n",
              "      <td>136.800003</td>\n",
              "      <td>148420.0</td>\n",
              "      <td>-1.137849</td>\n",
              "      <td>1.444183</td>\n",
              "    </tr>\n",
              "    <tr>\n",
              "      <th>2013-09-27</th>\n",
              "      <td>0.147696</td>\n",
              "      <td>0.020078</td>\n",
              "      <td>942.899475</td>\n",
              "      <td>1099.550049</td>\n",
              "      <td>0.003880</td>\n",
              "      <td>1115.00</td>\n",
              "      <td>1093.099976</td>\n",
              "      <td>1100.000000</td>\n",
              "      <td>173613.0</td>\n",
              "      <td>-2.309323</td>\n",
              "      <td>...</td>\n",
              "      <td>0.008424</td>\n",
              "      <td>123.954208</td>\n",
              "      <td>138.610001</td>\n",
              "      <td>0.012047</td>\n",
              "      <td>139.800003</td>\n",
              "      <td>135.929993</td>\n",
              "      <td>137.699997</td>\n",
              "      <td>139545.0</td>\n",
              "      <td>-1.245373</td>\n",
              "      <td>1.374823</td>\n",
              "    </tr>\n",
              "  </tbody>\n",
              "</table>\n",
              "<p>5 rows × 891 columns</p>\n",
              "</div>\n",
              "      <button class=\"colab-df-convert\" onclick=\"convertToInteractive('df-0df0c6e0-a474-472d-8898-942c614cf649')\"\n",
              "              title=\"Convert this dataframe to an interactive table.\"\n",
              "              style=\"display:none;\">\n",
              "        \n",
              "  <svg xmlns=\"http://www.w3.org/2000/svg\" height=\"24px\"viewBox=\"0 0 24 24\"\n",
              "       width=\"24px\">\n",
              "    <path d=\"M0 0h24v24H0V0z\" fill=\"none\"/>\n",
              "    <path d=\"M18.56 5.44l.94 2.06.94-2.06 2.06-.94-2.06-.94-.94-2.06-.94 2.06-2.06.94zm-11 1L8.5 8.5l.94-2.06 2.06-.94-2.06-.94L8.5 2.5l-.94 2.06-2.06.94zm10 10l.94 2.06.94-2.06 2.06-.94-2.06-.94-.94-2.06-.94 2.06-2.06.94z\"/><path d=\"M17.41 7.96l-1.37-1.37c-.4-.4-.92-.59-1.43-.59-.52 0-1.04.2-1.43.59L10.3 9.45l-7.72 7.72c-.78.78-.78 2.05 0 2.83L4 21.41c.39.39.9.59 1.41.59.51 0 1.02-.2 1.41-.59l7.78-7.78 2.81-2.81c.8-.78.8-2.07 0-2.86zM5.41 20L4 18.59l7.72-7.72 1.47 1.35L5.41 20z\"/>\n",
              "  </svg>\n",
              "      </button>\n",
              "      \n",
              "  <style>\n",
              "    .colab-df-container {\n",
              "      display:flex;\n",
              "      flex-wrap:wrap;\n",
              "      gap: 12px;\n",
              "    }\n",
              "\n",
              "    .colab-df-convert {\n",
              "      background-color: #E8F0FE;\n",
              "      border: none;\n",
              "      border-radius: 50%;\n",
              "      cursor: pointer;\n",
              "      display: none;\n",
              "      fill: #1967D2;\n",
              "      height: 32px;\n",
              "      padding: 0 0 0 0;\n",
              "      width: 32px;\n",
              "    }\n",
              "\n",
              "    .colab-df-convert:hover {\n",
              "      background-color: #E2EBFA;\n",
              "      box-shadow: 0px 1px 2px rgba(60, 64, 67, 0.3), 0px 1px 3px 1px rgba(60, 64, 67, 0.15);\n",
              "      fill: #174EA6;\n",
              "    }\n",
              "\n",
              "    [theme=dark] .colab-df-convert {\n",
              "      background-color: #3B4455;\n",
              "      fill: #D2E3FC;\n",
              "    }\n",
              "\n",
              "    [theme=dark] .colab-df-convert:hover {\n",
              "      background-color: #434B5C;\n",
              "      box-shadow: 0px 1px 3px 1px rgba(0, 0, 0, 0.15);\n",
              "      filter: drop-shadow(0px 1px 2px rgba(0, 0, 0, 0.3));\n",
              "      fill: #FFFFFF;\n",
              "    }\n",
              "  </style>\n",
              "\n",
              "      <script>\n",
              "        const buttonEl =\n",
              "          document.querySelector('#df-0df0c6e0-a474-472d-8898-942c614cf649 button.colab-df-convert');\n",
              "        buttonEl.style.display =\n",
              "          google.colab.kernel.accessAllowed ? 'block' : 'none';\n",
              "\n",
              "        async function convertToInteractive(key) {\n",
              "          const element = document.querySelector('#df-0df0c6e0-a474-472d-8898-942c614cf649');\n",
              "          const dataTable =\n",
              "            await google.colab.kernel.invokeFunction('convertToInteractive',\n",
              "                                                     [key], {});\n",
              "          if (!dataTable) return;\n",
              "\n",
              "          const docLinkHtml = 'Like what you see? Visit the ' +\n",
              "            '<a target=\"_blank\" href=https://colab.research.google.com/notebooks/data_table.ipynb>data table notebook</a>'\n",
              "            + ' to learn more about interactive tables.';\n",
              "          element.innerHTML = '';\n",
              "          dataTable['output_type'] = 'display_data';\n",
              "          await google.colab.output.renderOutput(dataTable, element);\n",
              "          const docLink = document.createElement('div');\n",
              "          docLink.innerHTML = docLinkHtml;\n",
              "          element.appendChild(docLink);\n",
              "        }\n",
              "      </script>\n",
              "    </div>\n",
              "  </div>\n",
              "  "
            ]
          },
          "metadata": {},
          "execution_count": 11
        }
      ]
    },
    {
      "cell_type": "code",
      "source": [
        "full_feature_dataset = full_feature_dataset.to_numpy()\n",
        "full_feature_dataset.shape"
      ],
      "metadata": {
        "colab": {
          "base_uri": "https://localhost:8080/"
        },
        "id": "8VzUrGL6cnVB",
        "outputId": "9ba75331-7a5b-4290-c109-0ececa156928"
      },
      "execution_count": null,
      "outputs": [
        {
          "output_type": "execute_result",
          "data": {
            "text/plain": [
              "(2192, 891)"
            ]
          },
          "metadata": {},
          "execution_count": 12
        }
      ]
    },
    {
      "cell_type": "code",
      "source": [
        "from sklearn.decomposition import PCA\n",
        "from sklearn.preprocessing import MinMaxScaler"
      ],
      "metadata": {
        "id": "emV_Ki3Lc5mB"
      },
      "execution_count": null,
      "outputs": []
    },
    {
      "cell_type": "code",
      "source": [
        "closing_prices = df_close.iloc[:full_feature_dataset.shape[0],:]"
      ],
      "metadata": {
        "id": "GK-5AMf4dmhl"
      },
      "execution_count": null,
      "outputs": []
    },
    {
      "cell_type": "code",
      "source": [
        "from sklearn.model_selection import train_test_split\n",
        "#Division of data\n",
        "# df_close = df_close.to_numpy()\n",
        "array_train, array_test = train_test_split(closing_prices, shuffle = False, test_size = .2)\n",
        "PCA_train, PCA_test = train_test_split(full_feature_dataset, shuffle = False, test_size = .2)"
      ],
      "metadata": {
        "id": "PS6QdZw-dpzH"
      },
      "execution_count": null,
      "outputs": []
    },
    {
      "cell_type": "code",
      "source": [
        "print(PCA_train.shape)"
      ],
      "metadata": {
        "colab": {
          "base_uri": "https://localhost:8080/"
        },
        "id": "8GuyhA6qiWnx",
        "outputId": "2f1a9fa3-ee61-4862-886d-dfb17ac5d2c0"
      },
      "execution_count": null,
      "outputs": [
        {
          "output_type": "stream",
          "name": "stdout",
          "text": [
            "(1753, 891)\n"
          ]
        }
      ]
    },
    {
      "cell_type": "code",
      "source": [
        "print(PCA_test.shape)"
      ],
      "metadata": {
        "colab": {
          "base_uri": "https://localhost:8080/"
        },
        "id": "qHAVFBbph9ps",
        "outputId": "62e24baf-fb2e-4119-a790-05d86fd5a4f8"
      },
      "execution_count": null,
      "outputs": [
        {
          "output_type": "stream",
          "name": "stdout",
          "text": [
            "(439, 891)\n"
          ]
        }
      ]
    },
    {
      "cell_type": "code",
      "source": [
        "print(array_train.shape)\n",
        "print(PCA_train.shape)"
      ],
      "metadata": {
        "colab": {
          "base_uri": "https://localhost:8080/"
        },
        "id": "zak54hFKdsey",
        "outputId": "b7e767c3-d08a-494b-fb21-d1eb5f1ded62"
      },
      "execution_count": null,
      "outputs": [
        {
          "output_type": "stream",
          "name": "stdout",
          "text": [
            "(1753, 81)\n",
            "(1753, 891)\n"
          ]
        }
      ]
    },
    {
      "cell_type": "code",
      "source": [
        "from sklearn.decomposition import PCA\n",
        "pc3 = PCA()\n",
        "temp = pc3.fit_transform(PCA_train)"
      ],
      "metadata": {
        "id": "Z35DFQZodv4W"
      },
      "execution_count": null,
      "outputs": []
    },
    {
      "cell_type": "code",
      "source": [
        "plt.plot(np.cumsum(pc3.explained_variance_ratio_))\n",
        "plt.xlabel('Num Components')\n",
        "plt.ylabel('Cumulative Explained Variance');"
      ],
      "metadata": {
        "colab": {
          "base_uri": "https://localhost:8080/",
          "height": 279
        },
        "id": "GoJw2rObd1IY",
        "outputId": "fa810311-ec97-497e-d6c2-7f2dc387d2d6"
      },
      "execution_count": null,
      "outputs": [
        {
          "output_type": "display_data",
          "data": {
            "text/plain": [
              "<Figure size 432x288 with 1 Axes>"
            ],
            "image/png": "[encoded data removed]"
          },
          "metadata": {
            "needs_background": "light"
          }
        }
      ]
    },
    {
      "cell_type": "code",
      "source": [
        "#Data with only closing prices\n",
        "from sklearn.preprocessing import MinMaxScaler\n",
        "scl = MinMaxScaler()\n",
        "scale = MinMaxScaler()\n",
        "array_train = scl.fit_transform(array_train)\n",
        "array_test  = scale.fit_transform(array_test) #[0,1]\n",
        "\n",
        "#Full features dataset; reducing dimensionality here\n",
        "from sklearn.decomposition import PCA\n",
        "pcTrain_scl = MinMaxScaler()\n",
        "pcTest_scl  = MinMaxScaler()\n",
        "pcaTrain = PCA(n_components = 81)\n",
        "pcaTest = PCA(n_components = 81)\n",
        "\n",
        "PCA_train = pcTrain_scl.fit_transform(PCA_train)\n",
        "PCA_train = pcaTrain.fit_transform(PCA_train)\n",
        "\n",
        "PCA_test = pcTest_scl.fit_transform(PCA_test)\n",
        "PCA_test = pcaTest.fit_transform(PCA_test)"
      ],
      "metadata": {
        "id": "85xnCYomd4_u"
      },
      "execution_count": null,
      "outputs": []
    },
    {
      "cell_type": "code",
      "source": [
        "print(array_train.shape)\n",
        "print(PCA_train.shape)\n",
        "print(array_test.shape)\n",
        "print(PCA_test.shape)"
      ],
      "metadata": {
        "colab": {
          "base_uri": "https://localhost:8080/"
        },
        "id": "CLtJCU6Gd-tA",
        "outputId": "4201ca71-56d0-4ed9-d5d1-9f7bb1093e1f"
      },
      "execution_count": null,
      "outputs": [
        {
          "output_type": "stream",
          "name": "stdout",
          "text": [
            "(1753, 81)\n",
            "(1753, 81)\n",
            "(439, 81)\n",
            "(439, 81)\n"
          ]
        }
      ]
    },
    {
      "cell_type": "code",
      "source": [
        "#Get the data and splits in input X and output Y, by spliting in lookback number of past days as input X \n",
        "#and horizon number of coming days as Y.\n",
        "def processData(data, lookback, horizon,num_companies,jump=1):\n",
        "    X,Y = [],[]\n",
        "    for i in range(0,len(data) -lookback - horizon +1, jump):\n",
        "        X.append(data[i:(i+lookback)])\n",
        "        Y.append(data[(i+lookback):(i+lookback+horizon)])\n",
        "    return np.array(X),np.array(Y)"
      ],
      "metadata": {
        "id": "hjCQgSLyebPH"
      },
      "execution_count": null,
      "outputs": []
    },
    {
      "cell_type": "code",
      "source": [
        "num_companies = df_close.shape[1]\n",
        "lookback = 252 #How many days of the past can the model see\n",
        "horizon = 22 #How many days into the future are we trying to predict"
      ],
      "metadata": {
        "id": "5vhR15Nle6Jo"
      },
      "execution_count": null,
      "outputs": []
    },
    {
      "cell_type": "code",
      "source": [
        "# Formation of lookback dataframes and forward dataframes for training, and testing dataset\n",
        "# to calculate accuracy\n",
        "\n",
        "#Testing Data\n",
        "X_test, void = processData(PCA_test,lookback,horizon,num_companies,horizon)\n",
        "void, y_test = processData(array_test,lookback,horizon,num_companies,horizon) \n",
        "y_test = np.array([list(a.ravel()) for a in y_test])\n",
        "\n",
        "#Training/Validation Data\n",
        "X_PCA, void = processData(PCA_train,lookback,horizon,num_companies)\n",
        "void, y = processData(array_train,lookback,horizon,num_companies)\n",
        "y = np.array([list(x.ravel()) for x in y])\n",
        "\n"
      ],
      "metadata": {
        "id": "2HEAkDZte9So"
      },
      "execution_count": null,
      "outputs": []
    },
    {
      "cell_type": "code",
      "source": [
        "X_train, X_validate, y_train, y_validate = train_test_split(X_PCA, y, test_size=0.20, train_size=0.80, random_state=1)"
      ],
      "metadata": {
        "id": "a8MwcVNmjuuU"
      },
      "execution_count": null,
      "outputs": []
    },
    {
      "cell_type": "code",
      "source": [
        "1782/22"
      ],
      "metadata": {
        "id": "xZI_7AMHmtTg",
        "colab": {
          "base_uri": "https://localhost:8080/"
        },
        "outputId": "bfe4e6f3-2301-467c-dd86-522e9e8408e8"
      },
      "execution_count": null,
      "outputs": [
        {
          "output_type": "execute_result",
          "data": {
            "text/plain": [
              "81.0"
            ]
          },
          "metadata": {},
          "execution_count": 27
        }
      ]
    },
    {
      "cell_type": "code",
      "source": [
        "print(X_train.shape)\n",
        "print(X_validate.shape)\n",
        "print(X_test.shape)\n",
        "print(y_train.shape)\n",
        "print(y_validate.shape)\n",
        "print(y_test.shape)\n",
        "#(Sample,Timestep,Features)"
      ],
      "metadata": {
        "colab": {
          "base_uri": "https://localhost:8080/"
        },
        "id": "6VJrOXWHtDHK",
        "outputId": "f72d0c4d-8a6e-4795-8c65-ddf1bfc87d06"
      },
      "execution_count": null,
      "outputs": [
        {
          "output_type": "stream",
          "name": "stdout",
          "text": [
            "(1184, 252, 81)\n",
            "(296, 252, 81)\n",
            "(8, 252, 81)\n",
            "(1184, 1782)\n",
            "(296, 1782)\n",
            "(8, 1782)\n"
          ]
        }
      ]
    },
    {
      "cell_type": "markdown",
      "source": [
        "Model Architecture + Training "
      ],
      "metadata": {
        "id": "RLdPqFabt34h"
      }
    },
    {
      "cell_type": "code",
      "source": [
        "from keras.models import Sequential, load_model\n",
        "import tensorflow as tf\n",
        "from keras.layers import LSTM,Dense,Activation,Attention,Dropout\n",
        "from tensorflow.keras.callbacks import EarlyStopping\n",
        "from tensorflow.keras.regularizers import Regularizer\n",
        "from keras import optimizers\n",
        "\n",
        "#Model Architecture - Two LSTM layers with x neurons & y epochs\n",
        "num_neurons_L1 = 800\n",
        "num_neurons_L2 = 600\n",
        "num_neurons_dense1 = 200\n",
        "EPOCHS = 10\n",
        "\n",
        "#Model\n",
        "model = Sequential()\n",
        "\n",
        "model.add(LSTM(num_neurons_L1,input_shape=(lookback,num_companies), return_sequences=True))\n",
        "model.add(LSTM(num_neurons_L2,input_shape=(num_neurons_L1,1)))\n",
        "model.add(Dense(horizon * num_companies, activation = 'relu'))\n",
        "model.add(Dense(horizon * num_companies, activation = 'sigmoid'))\n",
        "\n",
        "model.compile(loss='mean_squared_error', optimizer='adam', metrics = ['accuracy'])\n",
        "#model.compile(optimizer='adam',loss = tf.keras.losses.SparseCategoricalCrossentropy(from_logits=True), metrics=['accuracy'])"
      ],
      "metadata": {
        "id": "dQYO8wKCtYzY"
      },
      "execution_count": null,
      "outputs": []
    },
    {
      "cell_type": "code",
      "source": [
        "history = model.fit(X_train,y_train,epochs=EPOCHS, validation_data=(X_validate,y_validate), shuffle=False,batch_size=256, verbose=2)"
      ],
      "metadata": {
        "colab": {
          "base_uri": "https://localhost:8080/"
        },
        "id": "iZAeQsQDtxC9",
        "outputId": "9716e7dc-0733-4875-f0a6-728c25d47267"
      },
      "execution_count": null,
      "outputs": [
        {
          "output_type": "stream",
          "name": "stdout",
          "text": [
            "Epoch 1/10\n",
            "5/5 - 287s - loss: 0.0508 - accuracy: 0.0025 - val_loss: 0.0286 - val_accuracy: 0.0068 - 287s/epoch - 57s/step\n",
            "Epoch 2/10\n",
            "5/5 - 271s - loss: 0.0227 - accuracy: 0.0093 - val_loss: 0.0170 - val_accuracy: 0.0101 - 271s/epoch - 54s/step\n",
            "Epoch 3/10\n",
            "5/5 - 263s - loss: 0.0149 - accuracy: 0.0127 - val_loss: 0.0109 - val_accuracy: 0.0135 - 263s/epoch - 53s/step\n",
            "Epoch 4/10\n",
            "5/5 - 275s - loss: 0.0100 - accuracy: 0.0068 - val_loss: 0.0083 - val_accuracy: 0.0135 - 275s/epoch - 55s/step\n",
            "Epoch 5/10\n",
            "5/5 - 285s - loss: 0.0076 - accuracy: 0.0068 - val_loss: 0.0065 - val_accuracy: 0.0068 - 285s/epoch - 57s/step\n",
            "Epoch 6/10\n",
            "5/5 - 286s - loss: 0.0059 - accuracy: 0.0051 - val_loss: 0.0054 - val_accuracy: 0.0169 - 286s/epoch - 57s/step\n",
            "Epoch 7/10\n",
            "5/5 - 275s - loss: 0.0050 - accuracy: 0.0110 - val_loss: 0.0045 - val_accuracy: 0.0169 - 275s/epoch - 55s/step\n",
            "Epoch 8/10\n",
            "5/5 - 275s - loss: 0.0044 - accuracy: 0.0101 - val_loss: 0.0041 - val_accuracy: 0.0068 - 275s/epoch - 55s/step\n",
            "Epoch 9/10\n",
            "5/5 - 285s - loss: 0.0039 - accuracy: 0.0127 - val_loss: 0.0037 - val_accuracy: 0.0068 - 285s/epoch - 57s/step\n",
            "Epoch 10/10\n",
            "5/5 - 264s - loss: 0.0036 - accuracy: 0.0076 - val_loss: 0.0034 - val_accuracy: 0.0034 - 264s/epoch - 53s/step\n"
          ]
        }
      ]
    },
    {
      "cell_type": "code",
      "source": [
        "plt.figure(figsize = (15,10))\n",
        "\n",
        "plt.plot(history.history['loss'], label='loss')\n",
        "plt.plot(history.history['val_loss'], label='val_loss')\n",
        "plt.legend(loc='best')\n",
        "plt.show()"
      ],
      "metadata": {
        "colab": {
          "base_uri": "https://localhost:8080/",
          "height": 454
        },
        "id": "Vq-NxqmjuBkE",
        "outputId": "bc523b8b-677e-41ef-c519-85ab405345d6"
      },
      "execution_count": null,
      "outputs": [
        {
          "output_type": "display_data",
          "data": {
            "text/plain": [
              "<Figure size 1080x720 with 1 Axes>"
            ],
            "image/png": "[encoded data removed]"
          },
          "metadata": {
            "needs_background": "light"
          }
        }
      ]
    },
    {
      "cell_type": "code",
      "source": [
        "plt.figure(figsize = (15,10))\n",
        "\n",
        "plt.plot(history.history['accuracy'], label='accuracy')\n",
        "plt.plot(history.history['val_accuracy'], label='val_accuracy')\n",
        "plt.legend(loc='best')\n",
        "plt.show()"
      ],
      "metadata": {
        "colab": {
          "base_uri": "https://localhost:8080/",
          "height": 451
        },
        "id": "jvaHNTrjthWY",
        "outputId": "083f63c8-ee92-4378-ff3c-cc88de584edb"
      },
      "execution_count": null,
      "outputs": [
        {
          "output_type": "display_data",
          "data": {
            "text/plain": [
              "<Figure size 1080x720 with 1 Axes>"
            ],
            "image/png": "[encoded data removed]"
          },
          "metadata": {
            "needs_background": "light"
          }
        }
      ]
    },
    {
      "cell_type": "markdown",
      "source": [
        "**Predicting** **Results**"
      ],
      "metadata": {
        "id": "2KvHgZJHtu6H"
      }
    },
    {
      "cell_type": "code",
      "source": [
        "X_test, void = processData(PCA_test,lookback,horizon,num_companies,horizon)\n",
        "void, y_test = processData(array_test,lookback,horizon,num_companies,horizon) \n",
        "y_test = np.array([list(a.ravel()) for a in y_test])\n",
        "\n",
        "\n",
        "Xt = model.predict(X_test)\n",
        "Xt.shape"
      ],
      "metadata": {
        "colab": {
          "base_uri": "https://localhost:8080/"
        },
        "id": "72Hhbk6BtnEo",
        "outputId": "4c423b9d-9d20-40f5-9e4e-f6885481173e"
      },
      "execution_count": null,
      "outputs": [
        {
          "output_type": "execute_result",
          "data": {
            "text/plain": [
              "(8, 1782)"
            ]
          },
          "metadata": {},
          "execution_count": 33
        }
      ]
    },
    {
      "cell_type": "markdown",
      "source": [
        "**Un-scaling the data and returning data to original shape**"
      ],
      "metadata": {
        "id": "izQsEvLJ6LIc"
      }
    },
    {
      "cell_type": "code",
      "source": [
        "#Aux function 1\n",
        "def do_inverse_transform(output_result,num_companies):\n",
        "    #transform to input shape\n",
        "    original_matrix_format = []\n",
        "    for result in output_result:\n",
        "        #do inverse transform\n",
        "        original_matrix_format.append(scl.inverse_transform([result[x:x+num_companies] for x in range(0, len(result), num_companies)]))\n",
        "    original_matrix_format = np.array(original_matrix_format)\n",
        "    \n",
        "    #restore to original shape\n",
        "    for i in range(len(original_matrix_format)):\n",
        "        output_result[i] = original_matrix_format[i].ravel()\n",
        "\n",
        "    return output_result"
      ],
      "metadata": {
        "id": "o1t85sAYt2dd"
      },
      "execution_count": null,
      "outputs": []
    },
    {
      "cell_type": "code",
      "source": [
        "#Aux function 2\n",
        "def prediction_by_step_by_company(raw_model_output, num_companies):\n",
        "    matrix_prediction = []\n",
        "    for i in range(0,num_companies):\n",
        "        matrix_prediction.append([[lista[j] for j in range(i,len(lista),num_companies)] for lista in raw_model_output])\n",
        "    return np.array(matrix_prediction)"
      ],
      "metadata": {
        "id": "Gno9VL0F6XXA"
      },
      "execution_count": null,
      "outputs": []
    },
    {
      "cell_type": "code",
      "source": [
        "#Aux function 3\n",
        "def target_by_company(raw_model_output, num_companies):\n",
        "    matrix_target = [[] for x in range(num_companies)]\n",
        "    \n",
        "    for output in raw_model_output:\n",
        "        for i in range (num_companies):\n",
        "            for j in range(0,len(output),num_companies):\n",
        "                matrix_target[i].append(output[i+j])\n",
        "    return np.array(matrix_target)"
      ],
      "metadata": {
        "id": "11-C-dAu6dtB"
      },
      "execution_count": null,
      "outputs": []
    },
    {
      "cell_type": "code",
      "source": [
        "Xt = do_inverse_transform(Xt, num_companies)\n",
        "predictions = prediction_by_step_by_company(Xt, num_companies)\n",
        "predictions.shape"
      ],
      "metadata": {
        "colab": {
          "base_uri": "https://localhost:8080/"
        },
        "id": "qPIQu65-6htX",
        "outputId": "ed4a3074-9457-4a8c-8b0b-5201fa0ce980"
      },
      "execution_count": null,
      "outputs": [
        {
          "output_type": "execute_result",
          "data": {
            "text/plain": [
              "(81, 8, 22)"
            ]
          },
          "metadata": {},
          "execution_count": 37
        }
      ]
    },
    {
      "cell_type": "code",
      "source": [
        "Yt = do_inverse_transform(y_test, num_companies)\n",
        "\n",
        "actuals = target_by_company(Yt, num_companies)\n",
        "actuals.shape"
      ],
      "metadata": {
        "colab": {
          "base_uri": "https://localhost:8080/"
        },
        "id": "6KZT4E726luY",
        "outputId": "890d5a92-edb0-4af8-d2f4-c63ee5293d77"
      },
      "execution_count": null,
      "outputs": [
        {
          "output_type": "execute_result",
          "data": {
            "text/plain": [
              "(81, 176)"
            ]
          },
          "metadata": {},
          "execution_count": 38
        }
      ]
    },
    {
      "cell_type": "markdown",
      "source": [
        "**Prediction Results on Test Data - Plot**"
      ],
      "metadata": {
        "id": "8GDfbIvP62Nc"
      }
    },
    {
      "cell_type": "code",
      "source": [
        "plt.figure(figsize = (15,10))\n",
        "\n",
        "companies_to_show = [2] \n",
        "colors = ['r','g','c','m','y','k','w','b']\n",
        "companies_names = ['A', 'AAPL', 'ABC', 'ABMD']\n",
        " \n",
        "for id_company in companies_to_show:\n",
        "    for i in range(0,len(predictions[id_company])):\n",
        "        plt.plot([x + i*horizon for x in range(len(predictions[id_company][i]))], predictions[id_company][i], color=colors[id_company])\n",
        "    plt.plot(0,predictions[id_company][0][0] ,color=colors[id_company], label='predict_{}'.format(companies_names[id_company])) #only to place the label\n",
        "\n",
        "   \n",
        "\n",
        "for id_company in companies_to_show:\n",
        "    plt.plot(actuals[id_company], label='target_{}'.format(companies_names[id_company]))\n",
        "\n",
        "plt.legend(loc='best')\n",
        "plt.show()"
      ],
      "metadata": {
        "colab": {
          "base_uri": "https://localhost:8080/",
          "height": 456
        },
        "id": "OOH_3q3y6x3K",
        "outputId": "4da47103-6c97-4ef0-ab47-798ab2efe570"
      },
      "execution_count": null,
      "outputs": [
        {
          "output_type": "display_data",
          "data": {
            "text/plain": [
              "<Figure size 1080x720 with 1 Axes>"
            ],
            "image/png": "[encoded data removed]"
          },
          "metadata": {
            "needs_background": "light"
          }
        }
      ]
    },
    {
      "cell_type": "code",
      "source": [
        "full_PCA = np.concatenate((PCA_train,PCA_test),axis = 0)"
      ],
      "metadata": {
        "id": "Lf9lGtll7CoU"
      },
      "execution_count": null,
      "outputs": []
    },
    {
      "cell_type": "code",
      "source": [
        "X_all,void = processData(full_PCA,lookback,horizon,num_companies,horizon)\n",
        "void,y_all = processData(scl.fit_transform(df_close),lookback,horizon,num_companies,horizon)\n",
        "y_all = np.array([list(a.ravel()) for a in y_all])"
      ],
      "metadata": {
        "id": "qtnEbHpf7KBd"
      },
      "execution_count": null,
      "outputs": []
    },
    {
      "cell_type": "code",
      "source": [
        "Xt = model.predict(X_all)\n",
        "Xt.shape"
      ],
      "metadata": {
        "colab": {
          "base_uri": "https://localhost:8080/"
        },
        "id": "pQNzj4mf7Nii",
        "outputId": "17bc74d5-fd81-4bac-ee1f-456f780ce569"
      },
      "execution_count": null,
      "outputs": [
        {
          "output_type": "execute_result",
          "data": {
            "text/plain": [
              "(88, 1782)"
            ]
          },
          "metadata": {},
          "execution_count": 42
        }
      ]
    },
    {
      "cell_type": "code",
      "source": [
        "Xt = do_inverse_transform(Xt, num_companies)\n",
        "\n",
        "predictions = prediction_by_step_by_company(Xt, num_companies)\n",
        "predictions.shape"
      ],
      "metadata": {
        "colab": {
          "base_uri": "https://localhost:8080/"
        },
        "id": "Io786diN7Rv6",
        "outputId": "e307337e-01d5-4b6a-d40e-744287d074a6"
      },
      "execution_count": null,
      "outputs": [
        {
          "output_type": "execute_result",
          "data": {
            "text/plain": [
              "(81, 88, 22)"
            ]
          },
          "metadata": {},
          "execution_count": 43
        }
      ]
    },
    {
      "cell_type": "code",
      "source": [
        "Yt = do_inverse_transform(y_all, num_companies)\n",
        "\n",
        "actuals = target_by_company(Yt, num_companies)\n",
        "actuals.shape"
      ],
      "metadata": {
        "colab": {
          "base_uri": "https://localhost:8080/"
        },
        "id": "8xCj1gf67ihu",
        "outputId": "60c7a4bc-0453-4afa-edd6-fde1ff74eb69"
      },
      "execution_count": null,
      "outputs": [
        {
          "output_type": "execute_result",
          "data": {
            "text/plain": [
              "(81, 2200)"
            ]
          },
          "metadata": {},
          "execution_count": 44
        }
      ]
    },
    {
      "cell_type": "markdown",
      "source": [
        "**Prediction Results on Full Data - Plot**"
      ],
      "metadata": {
        "id": "ffrqlJbW7w_T"
      }
    },
    {
      "cell_type": "code",
      "source": [
        "plt.figure(figsize = (40,10))\n",
        "\n",
        "companies_to_show = [2] #Type a number between 0:4 to see 4 different companies\n",
        "colors = ['r','g','c','m','y','k','w','b']\n",
        "companies_names = ['A', 'B', 'C', 'D']\n",
        "\n",
        "    \n",
        "for id_company in companies_to_show:\n",
        "    for i in range(0,len(predictions[id_company])):\n",
        "        plt.plot([x + i*horizon for x in range(len(predictions[id_company][i]))], predictions[id_company][i], color=colors[id_company])\n",
        "    plt.plot(0,predictions[id_company][0][0] ,color=colors[id_company], label='predict_{}'.format(companies_names[id_company])) #only to place the label\n",
        "\n",
        "   \n",
        "\n",
        "for id_company in companies_to_show:\n",
        "    plt.plot(actuals[id_company], label='target_{}'.format(companies_names[id_company]))\n",
        "\n",
        "plt.legend(loc='best')\n",
        "plt.show()\n",
        "\n",
        "##QQ-plot"
      ],
      "metadata": {
        "colab": {
          "base_uri": "https://localhost:8080/",
          "height": 186
        },
        "id": "RYFhFz4A7nZt",
        "outputId": "0c081ef0-7cbc-48a6-ff04-651074d5f86e"
      },
      "execution_count": null,
      "outputs": [
        {
          "output_type": "display_data",
          "data": {
            "text/plain": [
              "<Figure size 2880x720 with 1 Axes>"
            ],
            "image/png": "[encoded data removed]"
          },
          "metadata": {
            "needs_background": "light"
          }
        }
      ]
    },
    {
      "cell_type": "markdown",
      "source": [
        "**Stock Prices Predictions**"
      ],
      "metadata": {
        "id": "AJSmkvC-8A7l"
      }
    },
    {
      "cell_type": "code",
      "source": [
        "predicted_prices = np.zeros((predictions.shape[1]*predictions.shape[2],predictions.shape[0]))\n",
        "# actual_prices = []\n",
        "\n",
        "for i in range(predictions.shape[0]):\n",
        "  counter = 0\n",
        "  for j in range(predictions.shape[1]):\n",
        "    for z in range(predictions.shape[2]):\n",
        "      predicted_prices[counter, i] = predictions[i,j,z]\n",
        "      counter+=1\n",
        "\n",
        "print(counter)"
      ],
      "metadata": {
        "colab": {
          "base_uri": "https://localhost:8080/"
        },
        "id": "WTnggrux76QR",
        "outputId": "d675485c-608e-4e5c-97a9-6563b7aca552"
      },
      "execution_count": null,
      "outputs": [
        {
          "output_type": "stream",
          "name": "stdout",
          "text": [
            "1936\n"
          ]
        }
      ]
    },
    {
      "cell_type": "code",
      "source": [
        "actuals_prices = actuals[:,:1936].T"
      ],
      "metadata": {
        "id": "MCEt9Y9B8K0E"
      },
      "execution_count": null,
      "outputs": []
    },
    {
      "cell_type": "code",
      "source": [
        "print(predicted_prices.shape)\n",
        "print(actuals_prices.shape)\n",
        "print(dates.shape)\n",
        "#(lookback+1, )"
      ],
      "metadata": {
        "colab": {
          "base_uri": "https://localhost:8080/"
        },
        "id": "OEB0dNPM8a4x",
        "outputId": "7d8fc554-b5f8-4e3b-a3ce-a06a0dc915b5"
      },
      "execution_count": null,
      "outputs": [
        {
          "output_type": "stream",
          "name": "stdout",
          "text": [
            "(1936, 81)\n",
            "(1936, 81)\n",
            "(2462,)\n"
          ]
        }
      ]
    },
    {
      "cell_type": "code",
      "source": [
        "(2462-lookback+1)-1936"
      ],
      "metadata": {
        "colab": {
          "base_uri": "https://localhost:8080/"
        },
        "id": "aM_Z9qN-8e8L",
        "outputId": "d0b4b2a3-093a-4462-d5bd-288ada59a04e"
      },
      "execution_count": null,
      "outputs": [
        {
          "output_type": "execute_result",
          "data": {
            "text/plain": [
              "275"
            ]
          },
          "metadata": {},
          "execution_count": 49
        }
      ]
    },
    {
      "cell_type": "code",
      "source": [
        "# Need to remove certain days because we predict into the future. But, we aren't able to test these predicted days\n",
        "# against actual days in our porfolio optimization\n",
        "\n",
        "actual_prices = pd.DataFrame(data = actuals_prices, columns = stocks,index = dates[lookback+1:2463-274])\n",
        "predicted_prices = pd.DataFrame(data = predicted_prices,columns=stocks, index = dates[lookback+1:2463-274])"
      ],
      "metadata": {
        "id": "BC3VWHBx8yfZ"
      },
      "execution_count": null,
      "outputs": []
    },
    {
      "cell_type": "code",
      "source": [
        "actual_prices"
      ],
      "metadata": {
        "colab": {
          "base_uri": "https://localhost:8080/",
          "height": 710
        },
        "id": "BR6u7n3G9QsI",
        "outputId": "4edae9b8-cd24-417f-a731-25a30c8449a5"
      },
      "execution_count": null,
      "outputs": [
        {
          "output_type": "execute_result",
          "data": {
            "text/plain": [
              "Index            ACC.NS  ADANIENT.NS  ADANIPORTS.NS  AMBUJACEM.NS  \\\n",
              "Date                                                                \n",
              "2013-08-28   942.799988    22.692371     123.500000    159.500000   \n",
              "2013-08-29   944.700012    22.439468     122.800003    160.100006   \n",
              "2013-08-30   958.049988    23.113878     127.750000    164.449997   \n",
              "2013-09-02   964.099976    21.688419     125.949997    171.600006   \n",
              "2013-09-03   952.000000    21.328222     130.399994    170.100006   \n",
              "...                 ...          ...            ...           ...   \n",
              "2021-07-02  1996.000000  1490.250000     703.099976    340.299988   \n",
              "2021-07-05  1987.250000  1422.050049     710.400024    339.250000   \n",
              "2021-07-06  1982.750000  1394.349976     710.049988    340.299988   \n",
              "2021-07-07  2022.849976  1414.800049     712.700012    351.850006   \n",
              "2021-07-08  2036.550049  1425.650024     720.099976    357.450012   \n",
              "\n",
              "Index       APOLLOHOSP.NS  ASIANPAINT.NS  AXISBANK.NS  BAJAJ-AUTO.NS  \\\n",
              "Date                                                                   \n",
              "2013-08-28     883.349976     410.000000   175.529999    1727.750000   \n",
              "2013-08-29     858.650024     392.000000   167.589996    1727.750000   \n",
              "2013-08-30     863.299988     403.200012   170.149994    1740.449951   \n",
              "2013-09-02     864.549988     420.950012   166.589996    1837.000000   \n",
              "2013-09-03     856.099976     422.399994   172.860001    1856.099976   \n",
              "...                   ...            ...          ...            ...   \n",
              "2021-07-02    3678.449951    3021.600098   746.450012    4204.549805   \n",
              "2021-07-05    3733.199951    3005.000000   750.650024    4175.350098   \n",
              "2021-07-06    3718.100098    3014.800049   760.349976    4201.500000   \n",
              "2021-07-07    3706.250000    3002.500000   758.349976    4195.399902   \n",
              "2021-07-08    3715.600098    3040.100098   762.900024    4188.250000   \n",
              "\n",
              "Index       BAJAJFINSV.NS  BAJAJHLDNG.NS  ...  TATASTEEL.NS       TCS.NS  \\\n",
              "Date                                      ...                              \n",
              "2013-08-28     576.650024     799.700012  ...     25.943018   919.400024   \n",
              "2013-08-29     588.750000     787.099976  ...     26.581352   953.950012   \n",
              "2013-08-30     595.900024     810.250000  ...     26.519424   973.549988   \n",
              "2013-09-02     590.099976     804.799988  ...     26.104982  1016.599976   \n",
              "2013-09-03     590.250000     802.849976  ...     27.572199  1028.425049   \n",
              "...                   ...            ...  ...           ...          ...   \n",
              "2021-07-02   11816.450195    3617.750000  ...    116.355003  3341.500000   \n",
              "2021-07-05   11750.450195    3677.000000  ...    113.599998  3325.449951   \n",
              "2021-07-06   11923.099609    3750.750000  ...    115.684998  3321.000000   \n",
              "2021-07-07   12090.799805    3862.149902  ...    116.724998  3262.300049   \n",
              "2021-07-08   12374.150391    3785.600098  ...    121.864998  3274.949951   \n",
              "\n",
              "Index          TECHM.NS     TITAN.NS  TORNTPHARM.NS  ULTRACEMCO.NS  \\\n",
              "Date                                                                 \n",
              "2013-08-28   340.725006   221.699997     201.449997    1550.699951   \n",
              "2013-08-29   342.562500   212.350006     199.100006    1463.699951   \n",
              "2013-08-30   341.387512   216.899994     200.000000    1447.949951   \n",
              "2013-09-02   343.750000   224.649994     203.800003    1474.849976   \n",
              "2013-09-03   343.762512   230.600006     204.074997    1498.400024   \n",
              "...                 ...          ...            ...            ...   \n",
              "2021-07-02  1085.150024  1740.300049    1462.099976    6707.250000   \n",
              "2021-07-05  1089.400024  1754.750000    1475.175049    6719.899902   \n",
              "2021-07-06  1074.650024  1749.900024    1469.425049    6719.850098   \n",
              "2021-07-07  1049.550049  1762.800049    1465.949951    6933.049805   \n",
              "2021-07-08  1045.900024  1727.250000    1474.775024    6925.100098   \n",
              "\n",
              "Index           UPL.NS     VEDL.NS    WIPRO.NS  ZYDUSLIFE.NS  \n",
              "Date                                                          \n",
              "2013-08-28   94.933327  168.350006  170.606293    131.240005  \n",
              "2013-08-29   94.900002  169.149994  176.793793    130.369995  \n",
              "2013-08-30   90.933327  192.449997  177.543793    131.019989  \n",
              "2013-09-02   88.933327  188.750000  181.350052    130.809998  \n",
              "2013-09-03   90.699997  188.800003  181.668793    130.149994  \n",
              "...                ...         ...         ...           ...  \n",
              "2021-07-02  791.500000  262.899994  539.349976    639.200012  \n",
              "2021-07-05  799.349976  262.049988  538.599976    639.349976  \n",
              "2021-07-06  807.599976  272.450012  536.349976    643.950012  \n",
              "2021-07-07  803.299988  270.600006  532.599976    637.450012  \n",
              "2021-07-08  816.900024  272.250000  532.150024    638.099976  \n",
              "\n",
              "[1936 rows x 81 columns]"
            ],
            "text/html": [
              "\n",
              "  <div id=\"df-fb67d99d-6cb9-4504-a109-a373b86401d5\">\n",
              "    <div class=\"colab-df-container\">\n",
              "      <div>\n",
              "<style scoped>\n",
              "    .dataframe tbody tr th:only-of-type {\n",
              "        vertical-align: middle;\n",
              "    }\n",
              "\n",
              "    .dataframe tbody tr th {\n",
              "        vertical-align: top;\n",
              "    }\n",
              "\n",
              "    .dataframe thead th {\n",
              "        text-align: right;\n",
              "    }\n",
              "</style>\n",
              "<table border=\"1\" class=\"dataframe\">\n",
              "  <thead>\n",
              "    <tr style=\"text-align: right;\">\n",
              "      <th>Index</th>\n",
              "      <th>ACC.NS</th>\n",
              "      <th>ADANIENT.NS</th>\n",
              "      <th>ADANIPORTS.NS</th>\n",
              "      <th>AMBUJACEM.NS</th>\n",
              "      <th>APOLLOHOSP.NS</th>\n",
              "      <th>ASIANPAINT.NS</th>\n",
              "      <th>AXISBANK.NS</th>\n",
              "      <th>BAJAJ-AUTO.NS</th>\n",
              "      <th>BAJAJFINSV.NS</th>\n",
              "      <th>BAJAJHLDNG.NS</th>\n",
              "      <th>...</th>\n",
              "      <th>TATASTEEL.NS</th>\n",
              "      <th>TCS.NS</th>\n",
              "      <th>TECHM.NS</th>\n",
              "      <th>TITAN.NS</th>\n",
              "      <th>TORNTPHARM.NS</th>\n",
              "      <th>ULTRACEMCO.NS</th>\n",
              "      <th>UPL.NS</th>\n",
              "      <th>VEDL.NS</th>\n",
              "      <th>WIPRO.NS</th>\n",
              "      <th>ZYDUSLIFE.NS</th>\n",
              "    </tr>\n",
              "    <tr>\n",
              "      <th>Date</th>\n",
              "      <th></th>\n",
              "      <th></th>\n",
              "      <th></th>\n",
              "      <th></th>\n",
              "      <th></th>\n",
              "      <th></th>\n",
              "      <th></th>\n",
              "      <th></th>\n",
              "      <th></th>\n",
              "      <th></th>\n",
              "      <th></th>\n",
              "      <th></th>\n",
              "      <th></th>\n",
              "      <th></th>\n",
              "      <th></th>\n",
              "      <th></th>\n",
              "      <th></th>\n",
              "      <th></th>\n",
              "      <th></th>\n",
              "      <th></th>\n",
              "      <th></th>\n",
              "    </tr>\n",
              "  </thead>\n",
              "  <tbody>\n",
              "    <tr>\n",
              "      <th>2013-08-28</th>\n",
              "      <td>942.799988</td>\n",
              "      <td>22.692371</td>\n",
              "      <td>123.500000</td>\n",
              "      <td>159.500000</td>\n",
              "      <td>883.349976</td>\n",
              "      <td>410.000000</td>\n",
              "      <td>175.529999</td>\n",
              "      <td>1727.750000</td>\n",
              "      <td>576.650024</td>\n",
              "      <td>799.700012</td>\n",
              "      <td>...</td>\n",
              "      <td>25.943018</td>\n",
              "      <td>919.400024</td>\n",
              "      <td>340.725006</td>\n",
              "      <td>221.699997</td>\n",
              "      <td>201.449997</td>\n",
              "      <td>1550.699951</td>\n",
              "      <td>94.933327</td>\n",
              "      <td>168.350006</td>\n",
              "      <td>170.606293</td>\n",
              "      <td>131.240005</td>\n",
              "    </tr>\n",
              "    <tr>\n",
              "      <th>2013-08-29</th>\n",
              "      <td>944.700012</td>\n",
              "      <td>22.439468</td>\n",
              "      <td>122.800003</td>\n",
              "      <td>160.100006</td>\n",
              "      <td>858.650024</td>\n",
              "      <td>392.000000</td>\n",
              "      <td>167.589996</td>\n",
              "      <td>1727.750000</td>\n",
              "      <td>588.750000</td>\n",
              "      <td>787.099976</td>\n",
              "      <td>...</td>\n",
              "      <td>26.581352</td>\n",
              "      <td>953.950012</td>\n",
              "      <td>342.562500</td>\n",
              "      <td>212.350006</td>\n",
              "      <td>199.100006</td>\n",
              "      <td>1463.699951</td>\n",
              "      <td>94.900002</td>\n",
              "      <td>169.149994</td>\n",
              "      <td>176.793793</td>\n",
              "      <td>130.369995</td>\n",
              "    </tr>\n",
              "    <tr>\n",
              "      <th>2013-08-30</th>\n",
              "      <td>958.049988</td>\n",
              "      <td>23.113878</td>\n",
              "      <td>127.750000</td>\n",
              "      <td>164.449997</td>\n",
              "      <td>863.299988</td>\n",
              "      <td>403.200012</td>\n",
              "      <td>170.149994</td>\n",
              "      <td>1740.449951</td>\n",
              "      <td>595.900024</td>\n",
              "      <td>810.250000</td>\n",
              "      <td>...</td>\n",
              "      <td>26.519424</td>\n",
              "      <td>973.549988</td>\n",
              "      <td>341.387512</td>\n",
              "      <td>216.899994</td>\n",
              "      <td>200.000000</td>\n",
              "      <td>1447.949951</td>\n",
              "      <td>90.933327</td>\n",
              "      <td>192.449997</td>\n",
              "      <td>177.543793</td>\n",
              "      <td>131.019989</td>\n",
              "    </tr>\n",
              "    <tr>\n",
              "      <th>2013-09-02</th>\n",
              "      <td>964.099976</td>\n",
              "      <td>21.688419</td>\n",
              "      <td>125.949997</td>\n",
              "      <td>171.600006</td>\n",
              "      <td>864.549988</td>\n",
              "      <td>420.950012</td>\n",
              "      <td>166.589996</td>\n",
              "      <td>1837.000000</td>\n",
              "      <td>590.099976</td>\n",
              "      <td>804.799988</td>\n",
              "      <td>...</td>\n",
              "      <td>26.104982</td>\n",
              "      <td>1016.599976</td>\n",
              "      <td>343.750000</td>\n",
              "      <td>224.649994</td>\n",
              "      <td>203.800003</td>\n",
              "      <td>1474.849976</td>\n",
              "      <td>88.933327</td>\n",
              "      <td>188.750000</td>\n",
              "      <td>181.350052</td>\n",
              "      <td>130.809998</td>\n",
              "    </tr>\n",
              "    <tr>\n",
              "      <th>2013-09-03</th>\n",
              "      <td>952.000000</td>\n",
              "      <td>21.328222</td>\n",
              "      <td>130.399994</td>\n",
              "      <td>170.100006</td>\n",
              "      <td>856.099976</td>\n",
              "      <td>422.399994</td>\n",
              "      <td>172.860001</td>\n",
              "      <td>1856.099976</td>\n",
              "      <td>590.250000</td>\n",
              "      <td>802.849976</td>\n",
              "      <td>...</td>\n",
              "      <td>27.572199</td>\n",
              "      <td>1028.425049</td>\n",
              "      <td>343.762512</td>\n",
              "      <td>230.600006</td>\n",
              "      <td>204.074997</td>\n",
              "      <td>1498.400024</td>\n",
              "      <td>90.699997</td>\n",
              "      <td>188.800003</td>\n",
              "      <td>181.668793</td>\n",
              "      <td>130.149994</td>\n",
              "    </tr>\n",
              "    <tr>\n",
              "      <th>...</th>\n",
              "      <td>...</td>\n",
              "      <td>...</td>\n",
              "      <td>...</td>\n",
              "      <td>...</td>\n",
              "      <td>...</td>\n",
              "      <td>...</td>\n",
              "      <td>...</td>\n",
              "      <td>...</td>\n",
              "      <td>...</td>\n",
              "      <td>...</td>\n",
              "      <td>...</td>\n",
              "      <td>...</td>\n",
              "      <td>...</td>\n",
              "      <td>...</td>\n",
              "      <td>...</td>\n",
              "      <td>...</td>\n",
              "      <td>...</td>\n",
              "      <td>...</td>\n",
              "      <td>...</td>\n",
              "      <td>...</td>\n",
              "      <td>...</td>\n",
              "    </tr>\n",
              "    <tr>\n",
              "      <th>2021-07-02</th>\n",
              "      <td>1996.000000</td>\n",
              "      <td>1490.250000</td>\n",
              "      <td>703.099976</td>\n",
              "      <td>340.299988</td>\n",
              "      <td>3678.449951</td>\n",
              "      <td>3021.600098</td>\n",
              "      <td>746.450012</td>\n",
              "      <td>4204.549805</td>\n",
              "      <td>11816.450195</td>\n",
              "      <td>3617.750000</td>\n",
              "      <td>...</td>\n",
              "      <td>116.355003</td>\n",
              "      <td>3341.500000</td>\n",
              "      <td>1085.150024</td>\n",
              "      <td>1740.300049</td>\n",
              "      <td>1462.099976</td>\n",
              "      <td>6707.250000</td>\n",
              "      <td>791.500000</td>\n",
              "      <td>262.899994</td>\n",
              "      <td>539.349976</td>\n",
              "      <td>639.200012</td>\n",
              "    </tr>\n",
              "    <tr>\n",
              "      <th>2021-07-05</th>\n",
              "      <td>1987.250000</td>\n",
              "      <td>1422.050049</td>\n",
              "      <td>710.400024</td>\n",
              "      <td>339.250000</td>\n",
              "      <td>3733.199951</td>\n",
              "      <td>3005.000000</td>\n",
              "      <td>750.650024</td>\n",
              "      <td>4175.350098</td>\n",
              "      <td>11750.450195</td>\n",
              "      <td>3677.000000</td>\n",
              "      <td>...</td>\n",
              "      <td>113.599998</td>\n",
              "      <td>3325.449951</td>\n",
              "      <td>1089.400024</td>\n",
              "      <td>1754.750000</td>\n",
              "      <td>1475.175049</td>\n",
              "      <td>6719.899902</td>\n",
              "      <td>799.349976</td>\n",
              "      <td>262.049988</td>\n",
              "      <td>538.599976</td>\n",
              "      <td>639.349976</td>\n",
              "    </tr>\n",
              "    <tr>\n",
              "      <th>2021-07-06</th>\n",
              "      <td>1982.750000</td>\n",
              "      <td>1394.349976</td>\n",
              "      <td>710.049988</td>\n",
              "      <td>340.299988</td>\n",
              "      <td>3718.100098</td>\n",
              "      <td>3014.800049</td>\n",
              "      <td>760.349976</td>\n",
              "      <td>4201.500000</td>\n",
              "      <td>11923.099609</td>\n",
              "      <td>3750.750000</td>\n",
              "      <td>...</td>\n",
              "      <td>115.684998</td>\n",
              "      <td>3321.000000</td>\n",
              "      <td>1074.650024</td>\n",
              "      <td>1749.900024</td>\n",
              "      <td>1469.425049</td>\n",
              "      <td>6719.850098</td>\n",
              "      <td>807.599976</td>\n",
              "      <td>272.450012</td>\n",
              "      <td>536.349976</td>\n",
              "      <td>643.950012</td>\n",
              "    </tr>\n",
              "    <tr>\n",
              "      <th>2021-07-07</th>\n",
              "      <td>2022.849976</td>\n",
              "      <td>1414.800049</td>\n",
              "      <td>712.700012</td>\n",
              "      <td>351.850006</td>\n",
              "      <td>3706.250000</td>\n",
              "      <td>3002.500000</td>\n",
              "      <td>758.349976</td>\n",
              "      <td>4195.399902</td>\n",
              "      <td>12090.799805</td>\n",
              "      <td>3862.149902</td>\n",
              "      <td>...</td>\n",
              "      <td>116.724998</td>\n",
              "      <td>3262.300049</td>\n",
              "      <td>1049.550049</td>\n",
              "      <td>1762.800049</td>\n",
              "      <td>1465.949951</td>\n",
              "      <td>6933.049805</td>\n",
              "      <td>803.299988</td>\n",
              "      <td>270.600006</td>\n",
              "      <td>532.599976</td>\n",
              "      <td>637.450012</td>\n",
              "    </tr>\n",
              "    <tr>\n",
              "      <th>2021-07-08</th>\n",
              "      <td>2036.550049</td>\n",
              "      <td>1425.650024</td>\n",
              "      <td>720.099976</td>\n",
              "      <td>357.450012</td>\n",
              "      <td>3715.600098</td>\n",
              "      <td>3040.100098</td>\n",
              "      <td>762.900024</td>\n",
              "      <td>4188.250000</td>\n",
              "      <td>12374.150391</td>\n",
              "      <td>3785.600098</td>\n",
              "      <td>...</td>\n",
              "      <td>121.864998</td>\n",
              "      <td>3274.949951</td>\n",
              "      <td>1045.900024</td>\n",
              "      <td>1727.250000</td>\n",
              "      <td>1474.775024</td>\n",
              "      <td>6925.100098</td>\n",
              "      <td>816.900024</td>\n",
              "      <td>272.250000</td>\n",
              "      <td>532.150024</td>\n",
              "      <td>638.099976</td>\n",
              "    </tr>\n",
              "  </tbody>\n",
              "</table>\n",
              "<p>1936 rows × 81 columns</p>\n",
              "</div>\n",
              "      <button class=\"colab-df-convert\" onclick=\"convertToInteractive('df-fb67d99d-6cb9-4504-a109-a373b86401d5')\"\n",
              "              title=\"Convert this dataframe to an interactive table.\"\n",
              "              style=\"display:none;\">\n",
              "        \n",
              "  <svg xmlns=\"http://www.w3.org/2000/svg\" height=\"24px\"viewBox=\"0 0 24 24\"\n",
              "       width=\"24px\">\n",
              "    <path d=\"M0 0h24v24H0V0z\" fill=\"none\"/>\n",
              "    <path d=\"M18.56 5.44l.94 2.06.94-2.06 2.06-.94-2.06-.94-.94-2.06-.94 2.06-2.06.94zm-11 1L8.5 8.5l.94-2.06 2.06-.94-2.06-.94L8.5 2.5l-.94 2.06-2.06.94zm10 10l.94 2.06.94-2.06 2.06-.94-2.06-.94-.94-2.06-.94 2.06-2.06.94z\"/><path d=\"M17.41 7.96l-1.37-1.37c-.4-.4-.92-.59-1.43-.59-.52 0-1.04.2-1.43.59L10.3 9.45l-7.72 7.72c-.78.78-.78 2.05 0 2.83L4 21.41c.39.39.9.59 1.41.59.51 0 1.02-.2 1.41-.59l7.78-7.78 2.81-2.81c.8-.78.8-2.07 0-2.86zM5.41 20L4 18.59l7.72-7.72 1.47 1.35L5.41 20z\"/>\n",
              "  </svg>\n",
              "      </button>\n",
              "      \n",
              "  <style>\n",
              "    .colab-df-container {\n",
              "      display:flex;\n",
              "      flex-wrap:wrap;\n",
              "      gap: 12px;\n",
              "    }\n",
              "\n",
              "    .colab-df-convert {\n",
              "      background-color: #E8F0FE;\n",
              "      border: none;\n",
              "      border-radius: 50%;\n",
              "      cursor: pointer;\n",
              "      display: none;\n",
              "      fill: #1967D2;\n",
              "      height: 32px;\n",
              "      padding: 0 0 0 0;\n",
              "      width: 32px;\n",
              "    }\n",
              "\n",
              "    .colab-df-convert:hover {\n",
              "      background-color: #E2EBFA;\n",
              "      box-shadow: 0px 1px 2px rgba(60, 64, 67, 0.3), 0px 1px 3px 1px rgba(60, 64, 67, 0.15);\n",
              "      fill: #174EA6;\n",
              "    }\n",
              "\n",
              "    [theme=dark] .colab-df-convert {\n",
              "      background-color: #3B4455;\n",
              "      fill: #D2E3FC;\n",
              "    }\n",
              "\n",
              "    [theme=dark] .colab-df-convert:hover {\n",
              "      background-color: #434B5C;\n",
              "      box-shadow: 0px 1px 3px 1px rgba(0, 0, 0, 0.15);\n",
              "      filter: drop-shadow(0px 1px 2px rgba(0, 0, 0, 0.3));\n",
              "      fill: #FFFFFF;\n",
              "    }\n",
              "  </style>\n",
              "\n",
              "      <script>\n",
              "        const buttonEl =\n",
              "          document.querySelector('#df-fb67d99d-6cb9-4504-a109-a373b86401d5 button.colab-df-convert');\n",
              "        buttonEl.style.display =\n",
              "          google.colab.kernel.accessAllowed ? 'block' : 'none';\n",
              "\n",
              "        async function convertToInteractive(key) {\n",
              "          const element = document.querySelector('#df-fb67d99d-6cb9-4504-a109-a373b86401d5');\n",
              "          const dataTable =\n",
              "            await google.colab.kernel.invokeFunction('convertToInteractive',\n",
              "                                                     [key], {});\n",
              "          if (!dataTable) return;\n",
              "\n",
              "          const docLinkHtml = 'Like what you see? Visit the ' +\n",
              "            '<a target=\"_blank\" href=https://colab.research.google.com/notebooks/data_table.ipynb>data table notebook</a>'\n",
              "            + ' to learn more about interactive tables.';\n",
              "          element.innerHTML = '';\n",
              "          dataTable['output_type'] = 'display_data';\n",
              "          await google.colab.output.renderOutput(dataTable, element);\n",
              "          const docLink = document.createElement('div');\n",
              "          docLink.innerHTML = docLinkHtml;\n",
              "          element.appendChild(docLink);\n",
              "        }\n",
              "      </script>\n",
              "    </div>\n",
              "  </div>\n",
              "  "
            ]
          },
          "metadata": {},
          "execution_count": 60
        }
      ]
    },
    {
      "cell_type": "code",
      "source": [
        "actual_prices.to_csv('y_dataset.csv')"
      ],
      "metadata": {
        "id": "wlcXdnXni_KU"
      },
      "execution_count": null,
      "outputs": []
    },
    {
      "cell_type": "code",
      "source": [
        "write.csv(actual_prices, 'y_dataset.csv', row.names = FALSE)"
      ],
      "metadata": {
        "colab": {
          "base_uri": "https://localhost:8080/",
          "height": 130
        },
        "id": "IcJqTdqTXgrg",
        "outputId": "f7015b3e-5656-440c-a802-2907a9797e35"
      },
      "execution_count": null,
      "outputs": [
        {
          "output_type": "error",
          "ename": "SyntaxError",
          "evalue": "ignored",
          "traceback": [
            "\u001b[0;36m  File \u001b[0;32m\"<ipython-input-61-95a1195ba5d0>\"\u001b[0;36m, line \u001b[0;32m1\u001b[0m\n\u001b[0;31m    write.csv(actual_prices, 'y_dataset.csv', row.names = FALSE)\u001b[0m\n\u001b[0m                                             ^\u001b[0m\n\u001b[0;31mSyntaxError\u001b[0m\u001b[0;31m:\u001b[0m keyword can't be an expression\n"
          ]
        }
      ]
    },
    {
      "cell_type": "code",
      "source": [
        "predicted_prices"
      ],
      "metadata": {
        "colab": {
          "base_uri": "https://localhost:8080/",
          "height": 710
        },
        "id": "YbxZCxB69T_6",
        "outputId": "7bbaa64e-c24d-4ccb-d5a1-c8d1d9e18687"
      },
      "execution_count": null,
      "outputs": [
        {
          "output_type": "execute_result",
          "data": {
            "text/plain": [
              "Index            ACC.NS  ADANIENT.NS  ADANIPORTS.NS  AMBUJACEM.NS  \\\n",
              "Date                                                                \n",
              "2013-08-28  1168.125122   209.581070     175.747040    185.140915   \n",
              "2013-08-29  1175.395630   224.744308     205.586090    198.565857   \n",
              "2013-08-30  1140.923096   195.316467     203.242599    185.812592   \n",
              "2013-09-02  1181.454346   203.409683     191.983185    183.757202   \n",
              "2013-09-03  1192.129883   237.603455     202.512848    188.241058   \n",
              "...                 ...          ...            ...           ...   \n",
              "2021-07-02  2078.775146  2215.869141     769.798157    299.970551   \n",
              "2021-07-05  2098.907227  2185.454834     751.567139    298.743347   \n",
              "2021-07-06  2051.858643  2257.159668     739.074951    305.737000   \n",
              "2021-07-07  2067.032227  2137.535889     773.167175    300.114899   \n",
              "2021-07-08  2040.571533  2224.961914     765.568481    296.762817   \n",
              "\n",
              "Index       APOLLOHOSP.NS  ASIANPAINT.NS  AXISBANK.NS  BAJAJ-AUTO.NS  \\\n",
              "Date                                                                   \n",
              "2013-08-28    2067.877441     537.469299   219.744843    2075.252197   \n",
              "2013-08-29    2039.834961     524.020203   201.000854    2052.678711   \n",
              "2013-08-30    2145.557617     533.543335   211.596786    2005.678345   \n",
              "2013-09-02    2139.608398     592.816040   212.488510    2004.932251   \n",
              "2013-09-03    2121.836182     600.856079   213.546753    2141.566406   \n",
              "...                   ...            ...          ...            ...   \n",
              "2021-07-02    3966.531494    2674.658936   700.500122    3491.274414   \n",
              "2021-07-05    4131.488770    2515.637939   721.402039    3438.084961   \n",
              "2021-07-06    3964.316650    2591.021240   715.036804    3408.195312   \n",
              "2021-07-07    4091.453857    2657.047363   721.907104    3419.894043   \n",
              "2021-07-08    4156.616699    2623.510254   722.153809    3510.491943   \n",
              "\n",
              "Index       BAJAJFINSV.NS  BAJAJHLDNG.NS  ...  TATASTEEL.NS       TCS.NS  \\\n",
              "Date                                      ...                              \n",
              "2013-08-28     686.764343     975.657227  ...     46.432476  1317.770386   \n",
              "2013-08-29     673.573608     999.273315  ...     46.113880  1392.945923   \n",
              "2013-08-30     656.498901    1006.159180  ...     49.312710  1433.477905   \n",
              "2013-09-02     707.256897    1029.058960  ...     44.516720  1344.568359   \n",
              "2013-09-03     694.083801     990.226257  ...     49.546108  1463.139160   \n",
              "...                   ...            ...  ...           ...          ...   \n",
              "2021-07-02   14888.556641    5123.076172  ...    106.518883  3563.668945   \n",
              "2021-07-05   14816.315430    5012.432617  ...     98.701790  3521.311768   \n",
              "2021-07-06   15507.294922    4899.542480  ...    104.207703  3563.727295   \n",
              "2021-07-07   14751.158203    5053.649414  ...    108.895897  3515.599609   \n",
              "2021-07-08   14874.522461    5071.690430  ...    101.285339  3507.332031   \n",
              "\n",
              "Index          TECHM.NS     TITAN.NS  TORNTPHARM.NS  ULTRACEMCO.NS  \\\n",
              "Date                                                                 \n",
              "2013-08-28   643.795227   259.062469     289.266510    1926.259766   \n",
              "2013-08-29   628.795532   273.228668     262.963165    1997.330688   \n",
              "2013-08-30   649.845459   240.078918     302.842133    2041.852295   \n",
              "2013-09-02   685.222351   254.153702     276.111816    1977.654663   \n",
              "2013-09-03   673.501770   241.339355     270.000885    2023.073242   \n",
              "...                 ...          ...            ...            ...   \n",
              "2021-07-02  1561.046143  2032.026978    1353.126953    6823.322754   \n",
              "2021-07-05  1574.577759  2091.114014    1410.262329    7074.271484   \n",
              "2021-07-06  1538.662598  2054.698486    1393.890503    6988.169922   \n",
              "2021-07-07  1566.373413  2085.078125    1364.733276    6660.829590   \n",
              "2021-07-08  1522.909546  2056.469482    1394.851440    6729.637695   \n",
              "\n",
              "Index           UPL.NS     VEDL.NS    WIPRO.NS  ZYDUSLIFE.NS  \n",
              "Date                                                          \n",
              "2013-08-28  105.283455  204.429138  351.913483    154.291000  \n",
              "2013-08-29  115.039162  210.431747  354.935699    159.598343  \n",
              "2013-08-30  111.624405  207.678650  336.121124    153.781937  \n",
              "2013-09-02  110.424736  208.623199  349.751465    156.916840  \n",
              "2013-09-03  111.343498  199.976059  347.657288    161.402191  \n",
              "...                ...         ...         ...           ...  \n",
              "2021-07-02  676.778931  255.888763  573.370239    389.155762  \n",
              "2021-07-05  646.670532  253.453568  571.571228    385.373138  \n",
              "2021-07-06  684.049072  246.847198  596.337463    387.896576  \n",
              "2021-07-07  676.673096  260.196716  589.367188    409.213379  \n",
              "2021-07-08  674.801514  264.279968  571.602417    385.006897  \n",
              "\n",
              "[1936 rows x 81 columns]"
            ],
            "text/html": [
              "\n",
              "  <div id=\"df-2c6ef834-20c6-42e8-b6e1-d17e32b48d5d\">\n",
              "    <div class=\"colab-df-container\">\n",
              "      <div>\n",
              "<style scoped>\n",
              "    .dataframe tbody tr th:only-of-type {\n",
              "        vertical-align: middle;\n",
              "    }\n",
              "\n",
              "    .dataframe tbody tr th {\n",
              "        vertical-align: top;\n",
              "    }\n",
              "\n",
              "    .dataframe thead th {\n",
              "        text-align: right;\n",
              "    }\n",
              "</style>\n",
              "<table border=\"1\" class=\"dataframe\">\n",
              "  <thead>\n",
              "    <tr style=\"text-align: right;\">\n",
              "      <th>Index</th>\n",
              "      <th>ACC.NS</th>\n",
              "      <th>ADANIENT.NS</th>\n",
              "      <th>ADANIPORTS.NS</th>\n",
              "      <th>AMBUJACEM.NS</th>\n",
              "      <th>APOLLOHOSP.NS</th>\n",
              "      <th>ASIANPAINT.NS</th>\n",
              "      <th>AXISBANK.NS</th>\n",
              "      <th>BAJAJ-AUTO.NS</th>\n",
              "      <th>BAJAJFINSV.NS</th>\n",
              "      <th>BAJAJHLDNG.NS</th>\n",
              "      <th>...</th>\n",
              "      <th>TATASTEEL.NS</th>\n",
              "      <th>TCS.NS</th>\n",
              "      <th>TECHM.NS</th>\n",
              "      <th>TITAN.NS</th>\n",
              "      <th>TORNTPHARM.NS</th>\n",
              "      <th>ULTRACEMCO.NS</th>\n",
              "      <th>UPL.NS</th>\n",
              "      <th>VEDL.NS</th>\n",
              "      <th>WIPRO.NS</th>\n",
              "      <th>ZYDUSLIFE.NS</th>\n",
              "    </tr>\n",
              "    <tr>\n",
              "      <th>Date</th>\n",
              "      <th></th>\n",
              "      <th></th>\n",
              "      <th></th>\n",
              "      <th></th>\n",
              "      <th></th>\n",
              "      <th></th>\n",
              "      <th></th>\n",
              "      <th></th>\n",
              "      <th></th>\n",
              "      <th></th>\n",
              "      <th></th>\n",
              "      <th></th>\n",
              "      <th></th>\n",
              "      <th></th>\n",
              "      <th></th>\n",
              "      <th></th>\n",
              "      <th></th>\n",
              "      <th></th>\n",
              "      <th></th>\n",
              "      <th></th>\n",
              "      <th></th>\n",
              "    </tr>\n",
              "  </thead>\n",
              "  <tbody>\n",
              "    <tr>\n",
              "      <th>2013-08-28</th>\n",
              "      <td>1168.125122</td>\n",
              "      <td>209.581070</td>\n",
              "      <td>175.747040</td>\n",
              "      <td>185.140915</td>\n",
              "      <td>2067.877441</td>\n",
              "      <td>537.469299</td>\n",
              "      <td>219.744843</td>\n",
              "      <td>2075.252197</td>\n",
              "      <td>686.764343</td>\n",
              "      <td>975.657227</td>\n",
              "      <td>...</td>\n",
              "      <td>46.432476</td>\n",
              "      <td>1317.770386</td>\n",
              "      <td>643.795227</td>\n",
              "      <td>259.062469</td>\n",
              "      <td>289.266510</td>\n",
              "      <td>1926.259766</td>\n",
              "      <td>105.283455</td>\n",
              "      <td>204.429138</td>\n",
              "      <td>351.913483</td>\n",
              "      <td>154.291000</td>\n",
              "    </tr>\n",
              "    <tr>\n",
              "      <th>2013-08-29</th>\n",
              "      <td>1175.395630</td>\n",
              "      <td>224.744308</td>\n",
              "      <td>205.586090</td>\n",
              "      <td>198.565857</td>\n",
              "      <td>2039.834961</td>\n",
              "      <td>524.020203</td>\n",
              "      <td>201.000854</td>\n",
              "      <td>2052.678711</td>\n",
              "      <td>673.573608</td>\n",
              "      <td>999.273315</td>\n",
              "      <td>...</td>\n",
              "      <td>46.113880</td>\n",
              "      <td>1392.945923</td>\n",
              "      <td>628.795532</td>\n",
              "      <td>273.228668</td>\n",
              "      <td>262.963165</td>\n",
              "      <td>1997.330688</td>\n",
              "      <td>115.039162</td>\n",
              "      <td>210.431747</td>\n",
              "      <td>354.935699</td>\n",
              "      <td>159.598343</td>\n",
              "    </tr>\n",
              "    <tr>\n",
              "      <th>2013-08-30</th>\n",
              "      <td>1140.923096</td>\n",
              "      <td>195.316467</td>\n",
              "      <td>203.242599</td>\n",
              "      <td>185.812592</td>\n",
              "      <td>2145.557617</td>\n",
              "      <td>533.543335</td>\n",
              "      <td>211.596786</td>\n",
              "      <td>2005.678345</td>\n",
              "      <td>656.498901</td>\n",
              "      <td>1006.159180</td>\n",
              "      <td>...</td>\n",
              "      <td>49.312710</td>\n",
              "      <td>1433.477905</td>\n",
              "      <td>649.845459</td>\n",
              "      <td>240.078918</td>\n",
              "      <td>302.842133</td>\n",
              "      <td>2041.852295</td>\n",
              "      <td>111.624405</td>\n",
              "      <td>207.678650</td>\n",
              "      <td>336.121124</td>\n",
              "      <td>153.781937</td>\n",
              "    </tr>\n",
              "    <tr>\n",
              "      <th>2013-09-02</th>\n",
              "      <td>1181.454346</td>\n",
              "      <td>203.409683</td>\n",
              "      <td>191.983185</td>\n",
              "      <td>183.757202</td>\n",
              "      <td>2139.608398</td>\n",
              "      <td>592.816040</td>\n",
              "      <td>212.488510</td>\n",
              "      <td>2004.932251</td>\n",
              "      <td>707.256897</td>\n",
              "      <td>1029.058960</td>\n",
              "      <td>...</td>\n",
              "      <td>44.516720</td>\n",
              "      <td>1344.568359</td>\n",
              "      <td>685.222351</td>\n",
              "      <td>254.153702</td>\n",
              "      <td>276.111816</td>\n",
              "      <td>1977.654663</td>\n",
              "      <td>110.424736</td>\n",
              "      <td>208.623199</td>\n",
              "      <td>349.751465</td>\n",
              "      <td>156.916840</td>\n",
              "    </tr>\n",
              "    <tr>\n",
              "      <th>2013-09-03</th>\n",
              "      <td>1192.129883</td>\n",
              "      <td>237.603455</td>\n",
              "      <td>202.512848</td>\n",
              "      <td>188.241058</td>\n",
              "      <td>2121.836182</td>\n",
              "      <td>600.856079</td>\n",
              "      <td>213.546753</td>\n",
              "      <td>2141.566406</td>\n",
              "      <td>694.083801</td>\n",
              "      <td>990.226257</td>\n",
              "      <td>...</td>\n",
              "      <td>49.546108</td>\n",
              "      <td>1463.139160</td>\n",
              "      <td>673.501770</td>\n",
              "      <td>241.339355</td>\n",
              "      <td>270.000885</td>\n",
              "      <td>2023.073242</td>\n",
              "      <td>111.343498</td>\n",
              "      <td>199.976059</td>\n",
              "      <td>347.657288</td>\n",
              "      <td>161.402191</td>\n",
              "    </tr>\n",
              "    <tr>\n",
              "      <th>...</th>\n",
              "      <td>...</td>\n",
              "      <td>...</td>\n",
              "      <td>...</td>\n",
              "      <td>...</td>\n",
              "      <td>...</td>\n",
              "      <td>...</td>\n",
              "      <td>...</td>\n",
              "      <td>...</td>\n",
              "      <td>...</td>\n",
              "      <td>...</td>\n",
              "      <td>...</td>\n",
              "      <td>...</td>\n",
              "      <td>...</td>\n",
              "      <td>...</td>\n",
              "      <td>...</td>\n",
              "      <td>...</td>\n",
              "      <td>...</td>\n",
              "      <td>...</td>\n",
              "      <td>...</td>\n",
              "      <td>...</td>\n",
              "      <td>...</td>\n",
              "    </tr>\n",
              "    <tr>\n",
              "      <th>2021-07-02</th>\n",
              "      <td>2078.775146</td>\n",
              "      <td>2215.869141</td>\n",
              "      <td>769.798157</td>\n",
              "      <td>299.970551</td>\n",
              "      <td>3966.531494</td>\n",
              "      <td>2674.658936</td>\n",
              "      <td>700.500122</td>\n",
              "      <td>3491.274414</td>\n",
              "      <td>14888.556641</td>\n",
              "      <td>5123.076172</td>\n",
              "      <td>...</td>\n",
              "      <td>106.518883</td>\n",
              "      <td>3563.668945</td>\n",
              "      <td>1561.046143</td>\n",
              "      <td>2032.026978</td>\n",
              "      <td>1353.126953</td>\n",
              "      <td>6823.322754</td>\n",
              "      <td>676.778931</td>\n",
              "      <td>255.888763</td>\n",
              "      <td>573.370239</td>\n",
              "      <td>389.155762</td>\n",
              "    </tr>\n",
              "    <tr>\n",
              "      <th>2021-07-05</th>\n",
              "      <td>2098.907227</td>\n",
              "      <td>2185.454834</td>\n",
              "      <td>751.567139</td>\n",
              "      <td>298.743347</td>\n",
              "      <td>4131.488770</td>\n",
              "      <td>2515.637939</td>\n",
              "      <td>721.402039</td>\n",
              "      <td>3438.084961</td>\n",
              "      <td>14816.315430</td>\n",
              "      <td>5012.432617</td>\n",
              "      <td>...</td>\n",
              "      <td>98.701790</td>\n",
              "      <td>3521.311768</td>\n",
              "      <td>1574.577759</td>\n",
              "      <td>2091.114014</td>\n",
              "      <td>1410.262329</td>\n",
              "      <td>7074.271484</td>\n",
              "      <td>646.670532</td>\n",
              "      <td>253.453568</td>\n",
              "      <td>571.571228</td>\n",
              "      <td>385.373138</td>\n",
              "    </tr>\n",
              "    <tr>\n",
              "      <th>2021-07-06</th>\n",
              "      <td>2051.858643</td>\n",
              "      <td>2257.159668</td>\n",
              "      <td>739.074951</td>\n",
              "      <td>305.737000</td>\n",
              "      <td>3964.316650</td>\n",
              "      <td>2591.021240</td>\n",
              "      <td>715.036804</td>\n",
              "      <td>3408.195312</td>\n",
              "      <td>15507.294922</td>\n",
              "      <td>4899.542480</td>\n",
              "      <td>...</td>\n",
              "      <td>104.207703</td>\n",
              "      <td>3563.727295</td>\n",
              "      <td>1538.662598</td>\n",
              "      <td>2054.698486</td>\n",
              "      <td>1393.890503</td>\n",
              "      <td>6988.169922</td>\n",
              "      <td>684.049072</td>\n",
              "      <td>246.847198</td>\n",
              "      <td>596.337463</td>\n",
              "      <td>387.896576</td>\n",
              "    </tr>\n",
              "    <tr>\n",
              "      <th>2021-07-07</th>\n",
              "      <td>2067.032227</td>\n",
              "      <td>2137.535889</td>\n",
              "      <td>773.167175</td>\n",
              "      <td>300.114899</td>\n",
              "      <td>4091.453857</td>\n",
              "      <td>2657.047363</td>\n",
              "      <td>721.907104</td>\n",
              "      <td>3419.894043</td>\n",
              "      <td>14751.158203</td>\n",
              "      <td>5053.649414</td>\n",
              "      <td>...</td>\n",
              "      <td>108.895897</td>\n",
              "      <td>3515.599609</td>\n",
              "      <td>1566.373413</td>\n",
              "      <td>2085.078125</td>\n",
              "      <td>1364.733276</td>\n",
              "      <td>6660.829590</td>\n",
              "      <td>676.673096</td>\n",
              "      <td>260.196716</td>\n",
              "      <td>589.367188</td>\n",
              "      <td>409.213379</td>\n",
              "    </tr>\n",
              "    <tr>\n",
              "      <th>2021-07-08</th>\n",
              "      <td>2040.571533</td>\n",
              "      <td>2224.961914</td>\n",
              "      <td>765.568481</td>\n",
              "      <td>296.762817</td>\n",
              "      <td>4156.616699</td>\n",
              "      <td>2623.510254</td>\n",
              "      <td>722.153809</td>\n",
              "      <td>3510.491943</td>\n",
              "      <td>14874.522461</td>\n",
              "      <td>5071.690430</td>\n",
              "      <td>...</td>\n",
              "      <td>101.285339</td>\n",
              "      <td>3507.332031</td>\n",
              "      <td>1522.909546</td>\n",
              "      <td>2056.469482</td>\n",
              "      <td>1394.851440</td>\n",
              "      <td>6729.637695</td>\n",
              "      <td>674.801514</td>\n",
              "      <td>264.279968</td>\n",
              "      <td>571.602417</td>\n",
              "      <td>385.006897</td>\n",
              "    </tr>\n",
              "  </tbody>\n",
              "</table>\n",
              "<p>1936 rows × 81 columns</p>\n",
              "</div>\n",
              "      <button class=\"colab-df-convert\" onclick=\"convertToInteractive('df-2c6ef834-20c6-42e8-b6e1-d17e32b48d5d')\"\n",
              "              title=\"Convert this dataframe to an interactive table.\"\n",
              "              style=\"display:none;\">\n",
              "        \n",
              "  <svg xmlns=\"http://www.w3.org/2000/svg\" height=\"24px\"viewBox=\"0 0 24 24\"\n",
              "       width=\"24px\">\n",
              "    <path d=\"M0 0h24v24H0V0z\" fill=\"none\"/>\n",
              "    <path d=\"M18.56 5.44l.94 2.06.94-2.06 2.06-.94-2.06-.94-.94-2.06-.94 2.06-2.06.94zm-11 1L8.5 8.5l.94-2.06 2.06-.94-2.06-.94L8.5 2.5l-.94 2.06-2.06.94zm10 10l.94 2.06.94-2.06 2.06-.94-2.06-.94-.94-2.06-.94 2.06-2.06.94z\"/><path d=\"M17.41 7.96l-1.37-1.37c-.4-.4-.92-.59-1.43-.59-.52 0-1.04.2-1.43.59L10.3 9.45l-7.72 7.72c-.78.78-.78 2.05 0 2.83L4 21.41c.39.39.9.59 1.41.59.51 0 1.02-.2 1.41-.59l7.78-7.78 2.81-2.81c.8-.78.8-2.07 0-2.86zM5.41 20L4 18.59l7.72-7.72 1.47 1.35L5.41 20z\"/>\n",
              "  </svg>\n",
              "      </button>\n",
              "      \n",
              "  <style>\n",
              "    .colab-df-container {\n",
              "      display:flex;\n",
              "      flex-wrap:wrap;\n",
              "      gap: 12px;\n",
              "    }\n",
              "\n",
              "    .colab-df-convert {\n",
              "      background-color: #E8F0FE;\n",
              "      border: none;\n",
              "      border-radius: 50%;\n",
              "      cursor: pointer;\n",
              "      display: none;\n",
              "      fill: #1967D2;\n",
              "      height: 32px;\n",
              "      padding: 0 0 0 0;\n",
              "      width: 32px;\n",
              "    }\n",
              "\n",
              "    .colab-df-convert:hover {\n",
              "      background-color: #E2EBFA;\n",
              "      box-shadow: 0px 1px 2px rgba(60, 64, 67, 0.3), 0px 1px 3px 1px rgba(60, 64, 67, 0.15);\n",
              "      fill: #174EA6;\n",
              "    }\n",
              "\n",
              "    [theme=dark] .colab-df-convert {\n",
              "      background-color: #3B4455;\n",
              "      fill: #D2E3FC;\n",
              "    }\n",
              "\n",
              "    [theme=dark] .colab-df-convert:hover {\n",
              "      background-color: #434B5C;\n",
              "      box-shadow: 0px 1px 3px 1px rgba(0, 0, 0, 0.15);\n",
              "      filter: drop-shadow(0px 1px 2px rgba(0, 0, 0, 0.3));\n",
              "      fill: #FFFFFF;\n",
              "    }\n",
              "  </style>\n",
              "\n",
              "      <script>\n",
              "        const buttonEl =\n",
              "          document.querySelector('#df-2c6ef834-20c6-42e8-b6e1-d17e32b48d5d button.colab-df-convert');\n",
              "        buttonEl.style.display =\n",
              "          google.colab.kernel.accessAllowed ? 'block' : 'none';\n",
              "\n",
              "        async function convertToInteractive(key) {\n",
              "          const element = document.querySelector('#df-2c6ef834-20c6-42e8-b6e1-d17e32b48d5d');\n",
              "          const dataTable =\n",
              "            await google.colab.kernel.invokeFunction('convertToInteractive',\n",
              "                                                     [key], {});\n",
              "          if (!dataTable) return;\n",
              "\n",
              "          const docLinkHtml = 'Like what you see? Visit the ' +\n",
              "            '<a target=\"_blank\" href=https://colab.research.google.com/notebooks/data_table.ipynb>data table notebook</a>'\n",
              "            + ' to learn more about interactive tables.';\n",
              "          element.innerHTML = '';\n",
              "          dataTable['output_type'] = 'display_data';\n",
              "          await google.colab.output.renderOutput(dataTable, element);\n",
              "          const docLink = document.createElement('div');\n",
              "          docLink.innerHTML = docLinkHtml;\n",
              "          element.appendChild(docLink);\n",
              "        }\n",
              "      </script>\n",
              "    </div>\n",
              "  </div>\n",
              "  "
            ]
          },
          "metadata": {},
          "execution_count": 52
        }
      ]
    },
    {
      "cell_type": "code",
      "source": [
        "from google.colab import drive\n",
        "drive.mount('drive')"
      ],
      "metadata": {
        "colab": {
          "base_uri": "https://localhost:8080/"
        },
        "id": "y5apMnJ49fas",
        "outputId": "77f8c9bc-d9ab-4227-e43d-fcf09ab8dddc"
      },
      "execution_count": null,
      "outputs": [
        {
          "output_type": "stream",
          "name": "stdout",
          "text": [
            "Mounted at drive\n"
          ]
        }
      ]
    },
    {
      "cell_type": "code",
      "source": [
        "predicted_prices.to_csv('PCA_Predicted_Prices1.csv')\n",
        "!cp PCA_Predicted_Prices1.csv \"drive/My Drive/Machine Learning Project/ML Section Exports\""
      ],
      "metadata": {
        "id": "gL48JDxF9nUh"
      },
      "execution_count": null,
      "outputs": []
    },
    {
      "cell_type": "code",
      "source": [
        "actual_prices.to_csv('PCA_Actual_Prices1.csv')\n",
        "!cp PCA_Actual_Prices1.csv \"drive/My Drive/Machine Learning Project/ML Section Exports\""
      ],
      "metadata": {
        "id": "Ny7CWuQT9xqU"
      },
      "execution_count": null,
      "outputs": []
    },
    {
      "cell_type": "code",
      "source": [],
      "metadata": {
        "id": "RV2Yae3r93e4"
      },
      "execution_count": null,
      "outputs": []
    }
  ]
}